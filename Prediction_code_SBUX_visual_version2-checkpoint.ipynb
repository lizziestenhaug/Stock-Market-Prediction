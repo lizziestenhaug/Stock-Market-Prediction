{
 "cells": [
  {
   "cell_type": "code",
   "execution_count": 1,
   "metadata": {
    "id": "qWv4xTLyamTk"
   },
   "outputs": [
    {
     "name": "stderr",
     "output_type": "stream",
     "text": [
      "/Users/elizabethstenhaug/opt/anaconda3/envs/PythonAdv/lib/python3.6/site-packages/tensorflow/python/framework/dtypes.py:526: FutureWarning: Passing (type, 1) or '1type' as a synonym of type is deprecated; in a future version of numpy, it will be understood as (type, (1,)) / '(1,)type'.\n",
      "  _np_qint8 = np.dtype([(\"qint8\", np.int8, 1)])\n",
      "/Users/elizabethstenhaug/opt/anaconda3/envs/PythonAdv/lib/python3.6/site-packages/tensorflow/python/framework/dtypes.py:527: FutureWarning: Passing (type, 1) or '1type' as a synonym of type is deprecated; in a future version of numpy, it will be understood as (type, (1,)) / '(1,)type'.\n",
      "  _np_quint8 = np.dtype([(\"quint8\", np.uint8, 1)])\n",
      "/Users/elizabethstenhaug/opt/anaconda3/envs/PythonAdv/lib/python3.6/site-packages/tensorflow/python/framework/dtypes.py:528: FutureWarning: Passing (type, 1) or '1type' as a synonym of type is deprecated; in a future version of numpy, it will be understood as (type, (1,)) / '(1,)type'.\n",
      "  _np_qint16 = np.dtype([(\"qint16\", np.int16, 1)])\n",
      "/Users/elizabethstenhaug/opt/anaconda3/envs/PythonAdv/lib/python3.6/site-packages/tensorflow/python/framework/dtypes.py:529: FutureWarning: Passing (type, 1) or '1type' as a synonym of type is deprecated; in a future version of numpy, it will be understood as (type, (1,)) / '(1,)type'.\n",
      "  _np_quint16 = np.dtype([(\"quint16\", np.uint16, 1)])\n",
      "/Users/elizabethstenhaug/opt/anaconda3/envs/PythonAdv/lib/python3.6/site-packages/tensorflow/python/framework/dtypes.py:530: FutureWarning: Passing (type, 1) or '1type' as a synonym of type is deprecated; in a future version of numpy, it will be understood as (type, (1,)) / '(1,)type'.\n",
      "  _np_qint32 = np.dtype([(\"qint32\", np.int32, 1)])\n",
      "/Users/elizabethstenhaug/opt/anaconda3/envs/PythonAdv/lib/python3.6/site-packages/tensorflow/python/framework/dtypes.py:535: FutureWarning: Passing (type, 1) or '1type' as a synonym of type is deprecated; in a future version of numpy, it will be understood as (type, (1,)) / '(1,)type'.\n",
      "  np_resource = np.dtype([(\"resource\", np.ubyte, 1)])\n",
      "Using TensorFlow backend.\n"
     ]
    }
   ],
   "source": [
    "# Dependencies\n",
    "import math\n",
    "import pandas_datareader as web\n",
    "from sklearn.preprocessing import MinMaxScaler\n",
    "import tensorflow as tf\n",
    "from keras.models import Sequential\n",
    "from keras.layers import Dense, LSTM\n",
    "import matplotlib.pyplot as plt\n",
    "import numpy as np\n",
    "import pandas as pd\n",
    "plt.style.use('fivethirtyeight')"
   ]
  },
  {
   "cell_type": "code",
   "execution_count": 2,
   "metadata": {
    "colab": {
     "base_uri": "https://localhost:8080/",
     "height": 450
    },
    "id": "hTt2GKsDb-O4",
    "outputId": "36c7d3e8-ae3b-4441-dfa5-8b3190604219"
   },
   "outputs": [
    {
     "data": {
      "text/html": [
       "<div>\n",
       "<style scoped>\n",
       "    .dataframe tbody tr th:only-of-type {\n",
       "        vertical-align: middle;\n",
       "    }\n",
       "\n",
       "    .dataframe tbody tr th {\n",
       "        vertical-align: top;\n",
       "    }\n",
       "\n",
       "    .dataframe thead th {\n",
       "        text-align: right;\n",
       "    }\n",
       "</style>\n",
       "<table border=\"1\" class=\"dataframe\">\n",
       "  <thead>\n",
       "    <tr style=\"text-align: right;\">\n",
       "      <th></th>\n",
       "      <th>High</th>\n",
       "      <th>Low</th>\n",
       "      <th>Open</th>\n",
       "      <th>Close</th>\n",
       "      <th>Volume</th>\n",
       "      <th>Adj Close</th>\n",
       "    </tr>\n",
       "    <tr>\n",
       "      <th>Date</th>\n",
       "      <th></th>\n",
       "      <th></th>\n",
       "      <th></th>\n",
       "      <th></th>\n",
       "      <th></th>\n",
       "      <th></th>\n",
       "    </tr>\n",
       "  </thead>\n",
       "  <tbody>\n",
       "    <tr>\n",
       "      <th>2000-01-03</th>\n",
       "      <td>3.085938</td>\n",
       "      <td>2.906250</td>\n",
       "      <td>2.984375</td>\n",
       "      <td>3.082031</td>\n",
       "      <td>24232000.0</td>\n",
       "      <td>2.565109</td>\n",
       "    </tr>\n",
       "    <tr>\n",
       "      <th>2000-01-04</th>\n",
       "      <td>3.109375</td>\n",
       "      <td>2.968750</td>\n",
       "      <td>3.007813</td>\n",
       "      <td>2.984375</td>\n",
       "      <td>21564800.0</td>\n",
       "      <td>2.483831</td>\n",
       "    </tr>\n",
       "    <tr>\n",
       "      <th>2000-01-05</th>\n",
       "      <td>3.078125</td>\n",
       "      <td>2.960938</td>\n",
       "      <td>2.992188</td>\n",
       "      <td>3.023438</td>\n",
       "      <td>28206400.0</td>\n",
       "      <td>2.516343</td>\n",
       "    </tr>\n",
       "    <tr>\n",
       "      <th>2000-01-06</th>\n",
       "      <td>3.203125</td>\n",
       "      <td>3.000000</td>\n",
       "      <td>3.000000</td>\n",
       "      <td>3.132813</td>\n",
       "      <td>30825600.0</td>\n",
       "      <td>2.607374</td>\n",
       "    </tr>\n",
       "    <tr>\n",
       "      <th>2000-01-07</th>\n",
       "      <td>3.125000</td>\n",
       "      <td>3.031250</td>\n",
       "      <td>3.093750</td>\n",
       "      <td>3.117188</td>\n",
       "      <td>26044800.0</td>\n",
       "      <td>2.594370</td>\n",
       "    </tr>\n",
       "    <tr>\n",
       "      <th>2000-01-10</th>\n",
       "      <td>3.343750</td>\n",
       "      <td>3.226563</td>\n",
       "      <td>3.234375</td>\n",
       "      <td>3.250000</td>\n",
       "      <td>29031200.0</td>\n",
       "      <td>2.704906</td>\n",
       "    </tr>\n",
       "    <tr>\n",
       "      <th>2000-01-11</th>\n",
       "      <td>3.257813</td>\n",
       "      <td>3.148438</td>\n",
       "      <td>3.242188</td>\n",
       "      <td>3.156250</td>\n",
       "      <td>19623200.0</td>\n",
       "      <td>2.626879</td>\n",
       "    </tr>\n",
       "    <tr>\n",
       "      <th>2000-01-12</th>\n",
       "      <td>3.218750</td>\n",
       "      <td>3.093750</td>\n",
       "      <td>3.171875</td>\n",
       "      <td>3.164063</td>\n",
       "      <td>17745600.0</td>\n",
       "      <td>2.633382</td>\n",
       "    </tr>\n",
       "    <tr>\n",
       "      <th>2000-01-13</th>\n",
       "      <td>3.406250</td>\n",
       "      <td>3.171875</td>\n",
       "      <td>3.171875</td>\n",
       "      <td>3.390625</td>\n",
       "      <td>21556000.0</td>\n",
       "      <td>2.821945</td>\n",
       "    </tr>\n",
       "    <tr>\n",
       "      <th>2000-01-14</th>\n",
       "      <td>3.445313</td>\n",
       "      <td>3.289063</td>\n",
       "      <td>3.398438</td>\n",
       "      <td>3.304688</td>\n",
       "      <td>22196800.0</td>\n",
       "      <td>2.750421</td>\n",
       "    </tr>\n",
       "    <tr>\n",
       "      <th>2000-01-18</th>\n",
       "      <td>3.328125</td>\n",
       "      <td>3.164063</td>\n",
       "      <td>3.273438</td>\n",
       "      <td>3.257813</td>\n",
       "      <td>10513600.0</td>\n",
       "      <td>2.711408</td>\n",
       "    </tr>\n",
       "    <tr>\n",
       "      <th>2000-01-19</th>\n",
       "      <td>3.328125</td>\n",
       "      <td>3.179688</td>\n",
       "      <td>3.257813</td>\n",
       "      <td>3.187500</td>\n",
       "      <td>15800800.0</td>\n",
       "      <td>2.652888</td>\n",
       "    </tr>\n",
       "    <tr>\n",
       "      <th>2000-01-20</th>\n",
       "      <td>3.218750</td>\n",
       "      <td>3.070313</td>\n",
       "      <td>3.195313</td>\n",
       "      <td>3.132813</td>\n",
       "      <td>18167200.0</td>\n",
       "      <td>2.607374</td>\n",
       "    </tr>\n",
       "    <tr>\n",
       "      <th>2000-01-21</th>\n",
       "      <td>3.171875</td>\n",
       "      <td>3.093750</td>\n",
       "      <td>3.164063</td>\n",
       "      <td>3.121094</td>\n",
       "      <td>11176000.0</td>\n",
       "      <td>2.597620</td>\n",
       "    </tr>\n",
       "    <tr>\n",
       "      <th>2000-01-24</th>\n",
       "      <td>3.195313</td>\n",
       "      <td>2.890625</td>\n",
       "      <td>3.125000</td>\n",
       "      <td>3.070313</td>\n",
       "      <td>31140000.0</td>\n",
       "      <td>2.555356</td>\n",
       "    </tr>\n",
       "    <tr>\n",
       "      <th>2000-01-25</th>\n",
       "      <td>3.375000</td>\n",
       "      <td>2.976563</td>\n",
       "      <td>3.039063</td>\n",
       "      <td>3.250000</td>\n",
       "      <td>47650400.0</td>\n",
       "      <td>2.704906</td>\n",
       "    </tr>\n",
       "    <tr>\n",
       "      <th>2000-01-26</th>\n",
       "      <td>3.671875</td>\n",
       "      <td>3.343750</td>\n",
       "      <td>3.367188</td>\n",
       "      <td>3.625000</td>\n",
       "      <td>75863200.0</td>\n",
       "      <td>3.017011</td>\n",
       "    </tr>\n",
       "    <tr>\n",
       "      <th>2000-01-27</th>\n",
       "      <td>3.640625</td>\n",
       "      <td>3.539063</td>\n",
       "      <td>3.609375</td>\n",
       "      <td>3.609375</td>\n",
       "      <td>37517600.0</td>\n",
       "      <td>3.004007</td>\n",
       "    </tr>\n",
       "    <tr>\n",
       "      <th>2000-01-28</th>\n",
       "      <td>3.773438</td>\n",
       "      <td>3.617188</td>\n",
       "      <td>3.625000</td>\n",
       "      <td>3.726563</td>\n",
       "      <td>60170400.0</td>\n",
       "      <td>3.101540</td>\n",
       "    </tr>\n",
       "    <tr>\n",
       "      <th>2000-01-31</th>\n",
       "      <td>4.000000</td>\n",
       "      <td>3.734375</td>\n",
       "      <td>3.742188</td>\n",
       "      <td>4.000000</td>\n",
       "      <td>51054400.0</td>\n",
       "      <td>3.329116</td>\n",
       "    </tr>\n",
       "    <tr>\n",
       "      <th>2000-02-01</th>\n",
       "      <td>4.046875</td>\n",
       "      <td>3.929688</td>\n",
       "      <td>3.968750</td>\n",
       "      <td>4.039063</td>\n",
       "      <td>30592000.0</td>\n",
       "      <td>3.361627</td>\n",
       "    </tr>\n",
       "    <tr>\n",
       "      <th>2000-02-02</th>\n",
       "      <td>4.062500</td>\n",
       "      <td>3.859375</td>\n",
       "      <td>4.031250</td>\n",
       "      <td>3.976563</td>\n",
       "      <td>20413600.0</td>\n",
       "      <td>3.309610</td>\n",
       "    </tr>\n",
       "    <tr>\n",
       "      <th>2000-02-03</th>\n",
       "      <td>4.000000</td>\n",
       "      <td>3.796875</td>\n",
       "      <td>3.984375</td>\n",
       "      <td>3.929688</td>\n",
       "      <td>20513600.0</td>\n",
       "      <td>3.270596</td>\n",
       "    </tr>\n",
       "    <tr>\n",
       "      <th>2000-02-04</th>\n",
       "      <td>4.343750</td>\n",
       "      <td>3.937500</td>\n",
       "      <td>4.062500</td>\n",
       "      <td>4.296875</td>\n",
       "      <td>51308800.0</td>\n",
       "      <td>3.576198</td>\n",
       "    </tr>\n",
       "    <tr>\n",
       "      <th>2000-02-07</th>\n",
       "      <td>4.312500</td>\n",
       "      <td>4.171875</td>\n",
       "      <td>4.289063</td>\n",
       "      <td>4.281250</td>\n",
       "      <td>19449600.0</td>\n",
       "      <td>3.563193</td>\n",
       "    </tr>\n",
       "    <tr>\n",
       "      <th>2000-02-08</th>\n",
       "      <td>4.375000</td>\n",
       "      <td>4.257813</td>\n",
       "      <td>4.281250</td>\n",
       "      <td>4.375000</td>\n",
       "      <td>21536000.0</td>\n",
       "      <td>3.641221</td>\n",
       "    </tr>\n",
       "    <tr>\n",
       "      <th>2000-02-09</th>\n",
       "      <td>4.359375</td>\n",
       "      <td>4.257813</td>\n",
       "      <td>4.351563</td>\n",
       "      <td>4.312500</td>\n",
       "      <td>17676000.0</td>\n",
       "      <td>3.589202</td>\n",
       "    </tr>\n",
       "    <tr>\n",
       "      <th>2000-02-10</th>\n",
       "      <td>4.335938</td>\n",
       "      <td>3.945313</td>\n",
       "      <td>4.312500</td>\n",
       "      <td>4.000000</td>\n",
       "      <td>24207200.0</td>\n",
       "      <td>3.329116</td>\n",
       "    </tr>\n",
       "    <tr>\n",
       "      <th>2000-02-11</th>\n",
       "      <td>4.187500</td>\n",
       "      <td>3.984375</td>\n",
       "      <td>3.984375</td>\n",
       "      <td>4.109375</td>\n",
       "      <td>19193600.0</td>\n",
       "      <td>3.420146</td>\n",
       "    </tr>\n",
       "    <tr>\n",
       "      <th>2000-02-14</th>\n",
       "      <td>4.351563</td>\n",
       "      <td>4.109375</td>\n",
       "      <td>4.171875</td>\n",
       "      <td>4.242188</td>\n",
       "      <td>20843200.0</td>\n",
       "      <td>3.530683</td>\n",
       "    </tr>\n",
       "    <tr>\n",
       "      <th>...</th>\n",
       "      <td>...</td>\n",
       "      <td>...</td>\n",
       "      <td>...</td>\n",
       "      <td>...</td>\n",
       "      <td>...</td>\n",
       "      <td>...</td>\n",
       "    </tr>\n",
       "    <tr>\n",
       "      <th>2021-01-25</th>\n",
       "      <td>103.949997</td>\n",
       "      <td>102.169998</td>\n",
       "      <td>103.750000</td>\n",
       "      <td>103.449997</td>\n",
       "      <td>5009000.0</td>\n",
       "      <td>103.011444</td>\n",
       "    </tr>\n",
       "    <tr>\n",
       "      <th>2021-01-26</th>\n",
       "      <td>105.209999</td>\n",
       "      <td>103.239998</td>\n",
       "      <td>103.400002</td>\n",
       "      <td>104.690002</td>\n",
       "      <td>7195300.0</td>\n",
       "      <td>104.246193</td>\n",
       "    </tr>\n",
       "    <tr>\n",
       "      <th>2021-01-27</th>\n",
       "      <td>101.779999</td>\n",
       "      <td>96.730003</td>\n",
       "      <td>101.480003</td>\n",
       "      <td>97.870003</td>\n",
       "      <td>18139500.0</td>\n",
       "      <td>97.455109</td>\n",
       "    </tr>\n",
       "    <tr>\n",
       "      <th>2021-01-28</th>\n",
       "      <td>100.529999</td>\n",
       "      <td>98.099998</td>\n",
       "      <td>98.940002</td>\n",
       "      <td>98.150002</td>\n",
       "      <td>8868200.0</td>\n",
       "      <td>97.733917</td>\n",
       "    </tr>\n",
       "    <tr>\n",
       "      <th>2021-01-29</th>\n",
       "      <td>97.790001</td>\n",
       "      <td>95.919998</td>\n",
       "      <td>97.389999</td>\n",
       "      <td>96.809998</td>\n",
       "      <td>8200800.0</td>\n",
       "      <td>96.399597</td>\n",
       "    </tr>\n",
       "    <tr>\n",
       "      <th>2021-02-01</th>\n",
       "      <td>99.620003</td>\n",
       "      <td>96.919998</td>\n",
       "      <td>96.989998</td>\n",
       "      <td>98.580002</td>\n",
       "      <td>7206300.0</td>\n",
       "      <td>98.162094</td>\n",
       "    </tr>\n",
       "    <tr>\n",
       "      <th>2021-02-02</th>\n",
       "      <td>102.480003</td>\n",
       "      <td>98.779999</td>\n",
       "      <td>99.050003</td>\n",
       "      <td>101.650002</td>\n",
       "      <td>6917700.0</td>\n",
       "      <td>101.219078</td>\n",
       "    </tr>\n",
       "    <tr>\n",
       "      <th>2021-02-03</th>\n",
       "      <td>102.650002</td>\n",
       "      <td>100.809998</td>\n",
       "      <td>101.250000</td>\n",
       "      <td>101.019997</td>\n",
       "      <td>3934800.0</td>\n",
       "      <td>100.591743</td>\n",
       "    </tr>\n",
       "    <tr>\n",
       "      <th>2021-02-04</th>\n",
       "      <td>104.239998</td>\n",
       "      <td>101.110001</td>\n",
       "      <td>101.360001</td>\n",
       "      <td>103.639999</td>\n",
       "      <td>6926800.0</td>\n",
       "      <td>103.200645</td>\n",
       "    </tr>\n",
       "    <tr>\n",
       "      <th>2021-02-05</th>\n",
       "      <td>107.540001</td>\n",
       "      <td>104.779999</td>\n",
       "      <td>105.089996</td>\n",
       "      <td>106.480003</td>\n",
       "      <td>8070700.0</td>\n",
       "      <td>106.028610</td>\n",
       "    </tr>\n",
       "    <tr>\n",
       "      <th>2021-02-08</th>\n",
       "      <td>106.529999</td>\n",
       "      <td>105.339996</td>\n",
       "      <td>106.419998</td>\n",
       "      <td>106.260002</td>\n",
       "      <td>4836600.0</td>\n",
       "      <td>105.809540</td>\n",
       "    </tr>\n",
       "    <tr>\n",
       "      <th>2021-02-09</th>\n",
       "      <td>106.830002</td>\n",
       "      <td>105.220001</td>\n",
       "      <td>106.000000</td>\n",
       "      <td>106.220001</td>\n",
       "      <td>4095200.0</td>\n",
       "      <td>105.769707</td>\n",
       "    </tr>\n",
       "    <tr>\n",
       "      <th>2021-02-10</th>\n",
       "      <td>106.900002</td>\n",
       "      <td>104.930000</td>\n",
       "      <td>106.779999</td>\n",
       "      <td>105.870003</td>\n",
       "      <td>4293200.0</td>\n",
       "      <td>105.421188</td>\n",
       "    </tr>\n",
       "    <tr>\n",
       "      <th>2021-02-11</th>\n",
       "      <td>106.230003</td>\n",
       "      <td>105.029999</td>\n",
       "      <td>106.120003</td>\n",
       "      <td>105.860001</td>\n",
       "      <td>2975100.0</td>\n",
       "      <td>105.411232</td>\n",
       "    </tr>\n",
       "    <tr>\n",
       "      <th>2021-02-12</th>\n",
       "      <td>105.940002</td>\n",
       "      <td>104.720001</td>\n",
       "      <td>105.739998</td>\n",
       "      <td>105.300003</td>\n",
       "      <td>3167800.0</td>\n",
       "      <td>104.853607</td>\n",
       "    </tr>\n",
       "    <tr>\n",
       "      <th>2021-02-16</th>\n",
       "      <td>106.589996</td>\n",
       "      <td>104.699997</td>\n",
       "      <td>104.879997</td>\n",
       "      <td>106.150002</td>\n",
       "      <td>4928100.0</td>\n",
       "      <td>105.700005</td>\n",
       "    </tr>\n",
       "    <tr>\n",
       "      <th>2021-02-17</th>\n",
       "      <td>105.459999</td>\n",
       "      <td>104.150002</td>\n",
       "      <td>105.110001</td>\n",
       "      <td>104.440002</td>\n",
       "      <td>5733800.0</td>\n",
       "      <td>104.440002</td>\n",
       "    </tr>\n",
       "    <tr>\n",
       "      <th>2021-02-18</th>\n",
       "      <td>105.339996</td>\n",
       "      <td>103.410004</td>\n",
       "      <td>103.779999</td>\n",
       "      <td>104.970001</td>\n",
       "      <td>4098700.0</td>\n",
       "      <td>104.970001</td>\n",
       "    </tr>\n",
       "    <tr>\n",
       "      <th>2021-02-19</th>\n",
       "      <td>105.279999</td>\n",
       "      <td>103.220001</td>\n",
       "      <td>104.750000</td>\n",
       "      <td>103.370003</td>\n",
       "      <td>4128900.0</td>\n",
       "      <td>103.370003</td>\n",
       "    </tr>\n",
       "    <tr>\n",
       "      <th>2021-02-22</th>\n",
       "      <td>102.989998</td>\n",
       "      <td>101.750000</td>\n",
       "      <td>102.989998</td>\n",
       "      <td>101.809998</td>\n",
       "      <td>5211800.0</td>\n",
       "      <td>101.809998</td>\n",
       "    </tr>\n",
       "    <tr>\n",
       "      <th>2021-02-23</th>\n",
       "      <td>103.339996</td>\n",
       "      <td>99.930000</td>\n",
       "      <td>103.339996</td>\n",
       "      <td>101.370003</td>\n",
       "      <td>8740300.0</td>\n",
       "      <td>101.370003</td>\n",
       "    </tr>\n",
       "    <tr>\n",
       "      <th>2021-02-24</th>\n",
       "      <td>104.510002</td>\n",
       "      <td>100.599998</td>\n",
       "      <td>101.160004</td>\n",
       "      <td>104.379997</td>\n",
       "      <td>7542700.0</td>\n",
       "      <td>104.379997</td>\n",
       "    </tr>\n",
       "    <tr>\n",
       "      <th>2021-02-25</th>\n",
       "      <td>105.769997</td>\n",
       "      <td>103.110001</td>\n",
       "      <td>104.000000</td>\n",
       "      <td>103.470001</td>\n",
       "      <td>7534000.0</td>\n",
       "      <td>103.470001</td>\n",
       "    </tr>\n",
       "    <tr>\n",
       "      <th>2021-02-26</th>\n",
       "      <td>109.480003</td>\n",
       "      <td>103.680000</td>\n",
       "      <td>104.150002</td>\n",
       "      <td>108.029999</td>\n",
       "      <td>15120900.0</td>\n",
       "      <td>108.029999</td>\n",
       "    </tr>\n",
       "    <tr>\n",
       "      <th>2021-03-01</th>\n",
       "      <td>110.470001</td>\n",
       "      <td>106.540001</td>\n",
       "      <td>108.599998</td>\n",
       "      <td>106.870003</td>\n",
       "      <td>7930300.0</td>\n",
       "      <td>106.870003</td>\n",
       "    </tr>\n",
       "    <tr>\n",
       "      <th>2021-03-02</th>\n",
       "      <td>108.250000</td>\n",
       "      <td>105.820000</td>\n",
       "      <td>107.309998</td>\n",
       "      <td>107.199997</td>\n",
       "      <td>5014600.0</td>\n",
       "      <td>107.199997</td>\n",
       "    </tr>\n",
       "    <tr>\n",
       "      <th>2021-03-03</th>\n",
       "      <td>107.959999</td>\n",
       "      <td>106.120003</td>\n",
       "      <td>106.940002</td>\n",
       "      <td>106.220001</td>\n",
       "      <td>5312000.0</td>\n",
       "      <td>106.220001</td>\n",
       "    </tr>\n",
       "    <tr>\n",
       "      <th>2021-03-04</th>\n",
       "      <td>107.169998</td>\n",
       "      <td>103.849998</td>\n",
       "      <td>106.260002</td>\n",
       "      <td>104.889999</td>\n",
       "      <td>7168900.0</td>\n",
       "      <td>104.889999</td>\n",
       "    </tr>\n",
       "    <tr>\n",
       "      <th>2021-03-05</th>\n",
       "      <td>106.059998</td>\n",
       "      <td>102.750000</td>\n",
       "      <td>106.059998</td>\n",
       "      <td>105.199997</td>\n",
       "      <td>5558700.0</td>\n",
       "      <td>105.199997</td>\n",
       "    </tr>\n",
       "    <tr>\n",
       "      <th>2021-03-08</th>\n",
       "      <td>106.875000</td>\n",
       "      <td>104.230003</td>\n",
       "      <td>104.800003</td>\n",
       "      <td>105.029999</td>\n",
       "      <td>4809641.0</td>\n",
       "      <td>105.029999</td>\n",
       "    </tr>\n",
       "  </tbody>\n",
       "</table>\n",
       "<p>5328 rows × 6 columns</p>\n",
       "</div>"
      ],
      "text/plain": [
       "                  High         Low        Open       Close      Volume  \\\n",
       "Date                                                                     \n",
       "2000-01-03    3.085938    2.906250    2.984375    3.082031  24232000.0   \n",
       "2000-01-04    3.109375    2.968750    3.007813    2.984375  21564800.0   \n",
       "2000-01-05    3.078125    2.960938    2.992188    3.023438  28206400.0   \n",
       "2000-01-06    3.203125    3.000000    3.000000    3.132813  30825600.0   \n",
       "2000-01-07    3.125000    3.031250    3.093750    3.117188  26044800.0   \n",
       "2000-01-10    3.343750    3.226563    3.234375    3.250000  29031200.0   \n",
       "2000-01-11    3.257813    3.148438    3.242188    3.156250  19623200.0   \n",
       "2000-01-12    3.218750    3.093750    3.171875    3.164063  17745600.0   \n",
       "2000-01-13    3.406250    3.171875    3.171875    3.390625  21556000.0   \n",
       "2000-01-14    3.445313    3.289063    3.398438    3.304688  22196800.0   \n",
       "2000-01-18    3.328125    3.164063    3.273438    3.257813  10513600.0   \n",
       "2000-01-19    3.328125    3.179688    3.257813    3.187500  15800800.0   \n",
       "2000-01-20    3.218750    3.070313    3.195313    3.132813  18167200.0   \n",
       "2000-01-21    3.171875    3.093750    3.164063    3.121094  11176000.0   \n",
       "2000-01-24    3.195313    2.890625    3.125000    3.070313  31140000.0   \n",
       "2000-01-25    3.375000    2.976563    3.039063    3.250000  47650400.0   \n",
       "2000-01-26    3.671875    3.343750    3.367188    3.625000  75863200.0   \n",
       "2000-01-27    3.640625    3.539063    3.609375    3.609375  37517600.0   \n",
       "2000-01-28    3.773438    3.617188    3.625000    3.726563  60170400.0   \n",
       "2000-01-31    4.000000    3.734375    3.742188    4.000000  51054400.0   \n",
       "2000-02-01    4.046875    3.929688    3.968750    4.039063  30592000.0   \n",
       "2000-02-02    4.062500    3.859375    4.031250    3.976563  20413600.0   \n",
       "2000-02-03    4.000000    3.796875    3.984375    3.929688  20513600.0   \n",
       "2000-02-04    4.343750    3.937500    4.062500    4.296875  51308800.0   \n",
       "2000-02-07    4.312500    4.171875    4.289063    4.281250  19449600.0   \n",
       "2000-02-08    4.375000    4.257813    4.281250    4.375000  21536000.0   \n",
       "2000-02-09    4.359375    4.257813    4.351563    4.312500  17676000.0   \n",
       "2000-02-10    4.335938    3.945313    4.312500    4.000000  24207200.0   \n",
       "2000-02-11    4.187500    3.984375    3.984375    4.109375  19193600.0   \n",
       "2000-02-14    4.351563    4.109375    4.171875    4.242188  20843200.0   \n",
       "...                ...         ...         ...         ...         ...   \n",
       "2021-01-25  103.949997  102.169998  103.750000  103.449997   5009000.0   \n",
       "2021-01-26  105.209999  103.239998  103.400002  104.690002   7195300.0   \n",
       "2021-01-27  101.779999   96.730003  101.480003   97.870003  18139500.0   \n",
       "2021-01-28  100.529999   98.099998   98.940002   98.150002   8868200.0   \n",
       "2021-01-29   97.790001   95.919998   97.389999   96.809998   8200800.0   \n",
       "2021-02-01   99.620003   96.919998   96.989998   98.580002   7206300.0   \n",
       "2021-02-02  102.480003   98.779999   99.050003  101.650002   6917700.0   \n",
       "2021-02-03  102.650002  100.809998  101.250000  101.019997   3934800.0   \n",
       "2021-02-04  104.239998  101.110001  101.360001  103.639999   6926800.0   \n",
       "2021-02-05  107.540001  104.779999  105.089996  106.480003   8070700.0   \n",
       "2021-02-08  106.529999  105.339996  106.419998  106.260002   4836600.0   \n",
       "2021-02-09  106.830002  105.220001  106.000000  106.220001   4095200.0   \n",
       "2021-02-10  106.900002  104.930000  106.779999  105.870003   4293200.0   \n",
       "2021-02-11  106.230003  105.029999  106.120003  105.860001   2975100.0   \n",
       "2021-02-12  105.940002  104.720001  105.739998  105.300003   3167800.0   \n",
       "2021-02-16  106.589996  104.699997  104.879997  106.150002   4928100.0   \n",
       "2021-02-17  105.459999  104.150002  105.110001  104.440002   5733800.0   \n",
       "2021-02-18  105.339996  103.410004  103.779999  104.970001   4098700.0   \n",
       "2021-02-19  105.279999  103.220001  104.750000  103.370003   4128900.0   \n",
       "2021-02-22  102.989998  101.750000  102.989998  101.809998   5211800.0   \n",
       "2021-02-23  103.339996   99.930000  103.339996  101.370003   8740300.0   \n",
       "2021-02-24  104.510002  100.599998  101.160004  104.379997   7542700.0   \n",
       "2021-02-25  105.769997  103.110001  104.000000  103.470001   7534000.0   \n",
       "2021-02-26  109.480003  103.680000  104.150002  108.029999  15120900.0   \n",
       "2021-03-01  110.470001  106.540001  108.599998  106.870003   7930300.0   \n",
       "2021-03-02  108.250000  105.820000  107.309998  107.199997   5014600.0   \n",
       "2021-03-03  107.959999  106.120003  106.940002  106.220001   5312000.0   \n",
       "2021-03-04  107.169998  103.849998  106.260002  104.889999   7168900.0   \n",
       "2021-03-05  106.059998  102.750000  106.059998  105.199997   5558700.0   \n",
       "2021-03-08  106.875000  104.230003  104.800003  105.029999   4809641.0   \n",
       "\n",
       "             Adj Close  \n",
       "Date                    \n",
       "2000-01-03    2.565109  \n",
       "2000-01-04    2.483831  \n",
       "2000-01-05    2.516343  \n",
       "2000-01-06    2.607374  \n",
       "2000-01-07    2.594370  \n",
       "2000-01-10    2.704906  \n",
       "2000-01-11    2.626879  \n",
       "2000-01-12    2.633382  \n",
       "2000-01-13    2.821945  \n",
       "2000-01-14    2.750421  \n",
       "2000-01-18    2.711408  \n",
       "2000-01-19    2.652888  \n",
       "2000-01-20    2.607374  \n",
       "2000-01-21    2.597620  \n",
       "2000-01-24    2.555356  \n",
       "2000-01-25    2.704906  \n",
       "2000-01-26    3.017011  \n",
       "2000-01-27    3.004007  \n",
       "2000-01-28    3.101540  \n",
       "2000-01-31    3.329116  \n",
       "2000-02-01    3.361627  \n",
       "2000-02-02    3.309610  \n",
       "2000-02-03    3.270596  \n",
       "2000-02-04    3.576198  \n",
       "2000-02-07    3.563193  \n",
       "2000-02-08    3.641221  \n",
       "2000-02-09    3.589202  \n",
       "2000-02-10    3.329116  \n",
       "2000-02-11    3.420146  \n",
       "2000-02-14    3.530683  \n",
       "...                ...  \n",
       "2021-01-25  103.011444  \n",
       "2021-01-26  104.246193  \n",
       "2021-01-27   97.455109  \n",
       "2021-01-28   97.733917  \n",
       "2021-01-29   96.399597  \n",
       "2021-02-01   98.162094  \n",
       "2021-02-02  101.219078  \n",
       "2021-02-03  100.591743  \n",
       "2021-02-04  103.200645  \n",
       "2021-02-05  106.028610  \n",
       "2021-02-08  105.809540  \n",
       "2021-02-09  105.769707  \n",
       "2021-02-10  105.421188  \n",
       "2021-02-11  105.411232  \n",
       "2021-02-12  104.853607  \n",
       "2021-02-16  105.700005  \n",
       "2021-02-17  104.440002  \n",
       "2021-02-18  104.970001  \n",
       "2021-02-19  103.370003  \n",
       "2021-02-22  101.809998  \n",
       "2021-02-23  101.370003  \n",
       "2021-02-24  104.379997  \n",
       "2021-02-25  103.470001  \n",
       "2021-02-26  108.029999  \n",
       "2021-03-01  106.870003  \n",
       "2021-03-02  107.199997  \n",
       "2021-03-03  106.220001  \n",
       "2021-03-04  104.889999  \n",
       "2021-03-05  105.199997  \n",
       "2021-03-08  105.029999  \n",
       "\n",
       "[5328 rows x 6 columns]"
      ]
     },
     "execution_count": 2,
     "metadata": {},
     "output_type": "execute_result"
    }
   ],
   "source": [
    "# get the stock quote\n",
    "SBUX_df = web.DataReader('SBUX', data_source='yahoo', start='2000-01-01', end ='2021-12-31')\n",
    "SBUX_df"
   ]
  },
  {
   "cell_type": "code",
   "execution_count": 3,
   "metadata": {
    "colab": {
     "base_uri": "https://localhost:8080/"
    },
    "id": "MThGSz0gclvs",
    "outputId": "4d7eef87-be58-4523-f93d-9178bb597f49"
   },
   "outputs": [
    {
     "data": {
      "text/plain": [
       "(5328, 6)"
      ]
     },
     "execution_count": 3,
     "metadata": {},
     "output_type": "execute_result"
    }
   ],
   "source": [
    "# get the total rows and columns in the AAPL Dataset\n",
    "SBUX_df.shape"
   ]
  },
  {
   "cell_type": "code",
   "execution_count": 5,
   "metadata": {
    "colab": {
     "base_uri": "https://localhost:8080/"
    },
    "id": "6NmZ0rO8blsm",
    "outputId": "66f0f010-fe81-445a-fe76-f13a31436e77"
   },
   "outputs": [
    {
     "data": {
      "text/plain": [
       "array([[  3.08203101],\n",
       "       [  2.984375  ],\n",
       "       [  3.02343798],\n",
       "       ...,\n",
       "       [104.88999939],\n",
       "       [105.19999695],\n",
       "       [105.02999878]])"
      ]
     },
     "execution_count": 5,
     "metadata": {},
     "output_type": "execute_result"
    }
   ],
   "source": [
    "# create a closing price dataset\n",
    "Closing_Price_SBUX_df = SBUX_df.filter(['Close'])\n",
    "\n",
    "# convert the the closing price dataset to a array\n",
    "Closing_Price_array_SBUX_df = Closing_Price_SBUX_df.values\n",
    "\n",
    "Closing_Price_array_SBUX_df"
   ]
  },
  {
   "cell_type": "code",
   "execution_count": 6,
   "metadata": {
    "colab": {
     "base_uri": "https://localhost:8080/"
    },
    "id": "491_6cAse8Kt",
    "outputId": "fd0ea7ed-480f-407d-cefd-218186355c83"
   },
   "outputs": [
    {
     "data": {
      "text/plain": [
       "4796"
      ]
     },
     "execution_count": 6,
     "metadata": {},
     "output_type": "execute_result"
    }
   ],
   "source": [
    "# get the number of rows to train the model on (90 %)\n",
    "train_closing_price_SBUX_len = math.ceil(len(Closing_Price_array_SBUX_df) * 0.9) # rounded up\n",
    "\n",
    "train_closing_price_SBUX_len"
   ]
  },
  {
   "cell_type": "code",
   "execution_count": 7,
   "metadata": {
    "colab": {
     "base_uri": "https://localhost:8080/"
    },
    "id": "3AYQTVJbgRyy",
    "outputId": "67807d33-de3b-4e49-c289-3e28dc833168"
   },
   "outputs": [
    {
     "data": {
      "text/plain": [
       "array([[9.29653307e-04],\n",
       "       [0.00000000e+00],\n",
       "       [3.71866770e-04],\n",
       "       ...,\n",
       "       [9.70108232e-01],\n",
       "       [9.73059308e-01],\n",
       "       [9.71440981e-01]])"
      ]
     },
     "execution_count": 7,
     "metadata": {},
     "output_type": "execute_result"
    }
   ],
   "source": [
    "# Scale de closing price dataset between 0 and 1\n",
    "scale_SBUX = MinMaxScaler(feature_range=(0,1))\n",
    "scaled_closing_price_SBUX_df = scale_SBUX.fit_transform(Closing_Price_array_SBUX_df)\n",
    "scaled_closing_price_SBUX_df"
   ]
  },
  {
   "cell_type": "code",
   "execution_count": 8,
   "metadata": {
    "id": "vM4u6NXIiRT_"
   },
   "outputs": [],
   "source": [
    "# Training Data\n",
    "train_closing_price_SBUX = scaled_closing_price_SBUX_df[0:train_closing_price_SBUX_len, :]\n",
    "# Split Data\n",
    "x_train =[]\n",
    "y_train=[]\n",
    "\n",
    "for i in range(80, len(train_closing_price_SBUX)):\n",
    "  x_train.append(train_closing_price_SBUX[i-80:i,0])\n",
    "  y_train.append(train_closing_price_SBUX[i,0])\n"
   ]
  },
  {
   "cell_type": "code",
   "execution_count": 9,
   "metadata": {
    "id": "59u2na0ZJ6Vg"
   },
   "outputs": [],
   "source": [
    "# convert to numpy arrays\n",
    "x_train = np.array(x_train)\n",
    "y_train = np.array(y_train)\n"
   ]
  },
  {
   "cell_type": "code",
   "execution_count": 10,
   "metadata": {
    "id": "ymk9yUhaL6V4"
   },
   "outputs": [],
   "source": [
    "# Reshape the dataset\n",
    "x_train = np.reshape(x_train, (x_train.shape[0],x_train.shape[1],1))"
   ]
  },
  {
   "cell_type": "code",
   "execution_count": 11,
   "metadata": {
    "colab": {
     "base_uri": "https://localhost:8080/"
    },
    "id": "oTu98pgvKzrQ",
    "outputId": "ac69abca-2f45-4f3f-ad81-e3badf0daca1"
   },
   "outputs": [
    {
     "data": {
      "text/plain": [
       "(4716, 80, 1)"
      ]
     },
     "execution_count": 11,
     "metadata": {},
     "output_type": "execute_result"
    }
   ],
   "source": [
    "x_train.shape"
   ]
  },
  {
   "cell_type": "code",
   "execution_count": 12,
   "metadata": {
    "id": "voJohWBaiOYr"
   },
   "outputs": [
    {
     "name": "stdout",
     "output_type": "stream",
     "text": [
      "WARNING:tensorflow:From /Users/elizabethstenhaug/opt/anaconda3/envs/PythonAdv/lib/python3.6/site-packages/tensorflow/python/framework/op_def_library.py:263: colocate_with (from tensorflow.python.framework.ops) is deprecated and will be removed in a future version.\n",
      "Instructions for updating:\n",
      "Colocations handled automatically by placer.\n"
     ]
    }
   ],
   "source": [
    "# Building the LSTM model\n",
    "#x_train = tf.convert_to_tensor(x_train)\n",
    "#y_train = tf.convert_to_tensor(y_train)\n",
    "\n",
    "SBUX_model = Sequential()\n",
    "SBUX_model.add(LSTM(50, return_sequences=True, input_shape= (x_train.shape[1],1)))\n",
    "SBUX_model.add(LSTM(50, return_sequences=False))\n",
    "SBUX_model.add(Dense(25))\n",
    "SBUX_model.add(Dense(1))"
   ]
  },
  {
   "cell_type": "code",
   "execution_count": 13,
   "metadata": {
    "id": "8IntKy1TU_1F"
   },
   "outputs": [],
   "source": [
    "# Compile  the LSTM model\n",
    "SBUX_model.compile(optimizer='adam', loss='mean_squared_error')\n",
    "#'categorical_crossentropy'"
   ]
  },
  {
   "cell_type": "code",
   "execution_count": 14,
   "metadata": {
    "colab": {
     "base_uri": "https://localhost:8080/"
    },
    "id": "sKBZM4h_ZS-Z",
    "outputId": "6806aaf3-b444-4164-df4a-171453d55d80"
   },
   "outputs": [
    {
     "name": "stdout",
     "output_type": "stream",
     "text": [
      "WARNING:tensorflow:From /Users/elizabethstenhaug/opt/anaconda3/envs/PythonAdv/lib/python3.6/site-packages/tensorflow/python/ops/math_ops.py:3066: to_int32 (from tensorflow.python.ops.math_ops) is deprecated and will be removed in a future version.\n",
      "Instructions for updating:\n",
      "Use tf.cast instead.\n",
      "Epoch 1/1\n",
      "4716/4716 [==============================] - 1373s 291ms/step - loss: 4.1776e-04\n"
     ]
    },
    {
     "data": {
      "text/plain": [
       "<keras.callbacks.History at 0x7fe7d88312b0>"
      ]
     },
     "execution_count": 14,
     "metadata": {},
     "output_type": "execute_result"
    }
   ],
   "source": [
    "# training the AAPL_model\n",
    "SBUX_model.fit(x_train,y_train,epochs=1,batch_size=1)"
   ]
  },
  {
   "cell_type": "code",
   "execution_count": 15,
   "metadata": {
    "id": "zRI6eEVtdBSE"
   },
   "outputs": [],
   "source": [
    "# Setting the testing Dataset\n",
    "# scaled testing dataset set from index 1743 to 2003\n",
    "SBUX_test_dataset= scaled_closing_price_SBUX_df[train_closing_price_SBUX_len - 80: , :]\n",
    "\n",
    "#setting the x and y test data\n",
    "x_test = []\n",
    "y_test = Closing_Price_array_SBUX_df[train_closing_price_SBUX_len, :]\n",
    "for i in range(80,len(SBUX_test_dataset)):\n",
    "    x_test.append(SBUX_test_dataset[i-80:i, 0])\n"
   ]
  },
  {
   "cell_type": "code",
   "execution_count": 16,
   "metadata": {
    "colab": {
     "base_uri": "https://localhost:8080/"
    },
    "id": "E5s3J3f3egyx",
    "outputId": "68e4ffcd-9dfe-4ce0-fccf-a0e7dcfb3188"
   },
   "outputs": [
    {
     "name": "stdout",
     "output_type": "stream",
     "text": [
      "[[0.50069317 0.50078836 0.499646   ... 0.60398161 0.58789334 0.61026456]\n",
      " [0.50078836 0.499646   0.50364425 ... 0.58789334 0.61026456 0.60845587]\n",
      " [0.499646   0.50364425 0.50240668 ... 0.61026456 0.60845587 0.60978862]\n",
      " ...\n",
      " [0.83426253 0.83454811 0.88433596 ... 0.98895722 0.99209865 0.98276941]\n",
      " [0.83454811 0.88433596 0.86567741 ... 0.99209865 0.98276941 0.97010823]\n",
      " [0.88433596 0.86567741 0.87633947 ... 0.98276941 0.97010823 0.97305931]]\n"
     ]
    }
   ],
   "source": [
    "# Convert the test dataset to array\n",
    "x_test = np.array(x_test)\n",
    "print (x_test)"
   ]
  },
  {
   "cell_type": "code",
   "execution_count": 17,
   "metadata": {
    "id": "3P7Smg6far6X"
   },
   "outputs": [],
   "source": [
    "#reshape the test dataset\n",
    "\n",
    "x_test = np.reshape(x_test, (x_test.shape[0],x_test.shape[1],1))"
   ]
  },
  {
   "cell_type": "code",
   "execution_count": 18,
   "metadata": {
    "colab": {
     "base_uri": "https://localhost:8080/"
    },
    "id": "uQLWL1VamH4a",
    "outputId": "5e77c4af-fea6-41a9-89f6-56ce8f01396f"
   },
   "outputs": [
    {
     "data": {
      "text/plain": [
       "(532, 80, 1)"
      ]
     },
     "execution_count": 18,
     "metadata": {},
     "output_type": "execute_result"
    }
   ],
   "source": [
    "x_test.shape"
   ]
  },
  {
   "cell_type": "code",
   "execution_count": 19,
   "metadata": {
    "id": "W-gWpmJSmR3H"
   },
   "outputs": [],
   "source": [
    "# getting the model predicted closing price value\n",
    "\n",
    "predictions = SBUX_model.predict(x_test)\n",
    "predictions = scale_SBUX.inverse_transform(predictions)"
   ]
  },
  {
   "cell_type": "code",
   "execution_count": 20,
   "metadata": {
    "colab": {
     "base_uri": "https://localhost:8080/"
    },
    "id": "VPySoSOGmqX3",
    "outputId": "5af6bb0a-621d-48f4-c1d5-ea1f5c127769"
   },
   "outputs": [
    {
     "data": {
      "text/plain": [
       "16.24713876910676"
      ]
     },
     "execution_count": 20,
     "metadata": {},
     "output_type": "execute_result"
    }
   ],
   "source": [
    "# getting the root mean squared error \n",
    "\n",
    "rmse = np.sqrt(np.mean(predictions - y_test) **2)\n",
    "rmse"
   ]
  },
  {
   "cell_type": "markdown",
   "metadata": {
    "id": "K_JZcsEzwF_L"
   },
   "source": []
  },
  {
   "cell_type": "code",
   "execution_count": 21,
   "metadata": {
    "colab": {
     "base_uri": "https://localhost:8080/",
     "height": 677
    },
    "id": "0leszgAPqgKu",
    "outputId": "2c0fda71-bc6d-435a-fb33-aac7fa523633"
   },
   "outputs": [
    {
     "name": "stderr",
     "output_type": "stream",
     "text": [
      "/Users/elizabethstenhaug/opt/anaconda3/envs/PythonAdv/lib/python3.6/site-packages/ipykernel_launcher.py:5: SettingWithCopyWarning: \n",
      "A value is trying to be set on a copy of a slice from a DataFrame.\n",
      "Try using .loc[row_indexer,col_indexer] = value instead\n",
      "\n",
      "See the caveats in the documentation: http://pandas.pydata.org/pandas-docs/stable/indexing.html#indexing-view-versus-copy\n",
      "  \"\"\"\n",
      "/Users/elizabethstenhaug/opt/anaconda3/envs/PythonAdv/lib/python3.6/site-packages/pandas/plotting/_converter.py:129: FutureWarning: Using an implicitly registered datetime converter for a matplotlib plotting method. The converter was registered by pandas on import. Future versions of pandas will require you to explicitly register matplotlib converters.\n",
      "\n",
      "To register the converters:\n",
      "\t>>> from pandas.plotting import register_matplotlib_converters\n",
      "\t>>> register_matplotlib_converters()\n",
      "  warnings.warn(msg, FutureWarning)\n"
     ]
    },
    {
     "data": {
      "text/plain": [
       "<matplotlib.legend.Legend at 0x7fe7e4a9c710>"
      ]
     },
     "execution_count": 21,
     "metadata": {},
     "output_type": "execute_result"
    },
    {
     "data": {
      "image/png": "[encoded data removed]",
      "text/plain": [
       "<Figure size 1152x576 with 1 Axes>"
      ]
     },
     "metadata": {},
     "output_type": "display_data"
    }
   ],
   "source": [
    "# Plot the Dataset\n",
    "train_data = Closing_Price_SBUX_df[:train_closing_price_SBUX_len]\n",
    "validation_data = Closing_Price_SBUX_df[train_closing_price_SBUX_len:]\n",
    "\n",
    "validation_data['Predictions'] = predictions\n",
    "plt.figure(figsize=(16,8))\n",
    "plt.title('SBUX Model', color='crimson')\n",
    "plt.xlabel('date', fontsize=18, color='crimson')\n",
    "plt.ylabel('closing price USD', color='crimson')\n",
    "plt.plot(train_data['Close'], color='darkcyan')\n",
    "plt.plot(validation_data['Close'], color='limegreen')\n",
    "plt.plot(validation_data['Predictions'], color = 'lightcoral')\n",
    "plt.legend(['Train', 'Validation', 'Predictions'])\n"
   ]
  },
  {
   "cell_type": "code",
   "execution_count": null,
   "metadata": {},
   "outputs": [],
   "source": []
  }
 ],
 "metadata": {
  "colab": {
   "collapsed_sections": [],
   "name": "Untitled0.ipynb",
   "provenance": []
  },
  "kernelspec": {
   "display_name": "Python 3",
   "language": "python",
   "name": "python3"
  },
  "language_info": {
   "codemirror_mode": {
    "name": "ipython",
    "version": 3
   },
   "file_extension": ".py",
   "mimetype": "text/x-python",
   "name": "python",
   "nbconvert_exporter": "python",
   "pygments_lexer": "ipython3",
   "version": "3.6.12"
  }
 },
 "nbformat": 4,
 "nbformat_minor": 1
}
