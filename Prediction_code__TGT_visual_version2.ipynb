{
 "cells": [
  {
   "cell_type": "code",
   "execution_count": 2,
   "metadata": {
    "id": "qWv4xTLyamTk"
   },
   "outputs": [
    {
     "name": "stderr",
     "output_type": "stream",
     "text": [
      "/Users/elizabethstenhaug/opt/anaconda3/envs/PythonAdv/lib/python3.6/site-packages/tensorflow/python/framework/dtypes.py:526: FutureWarning: Passing (type, 1) or '1type' as a synonym of type is deprecated; in a future version of numpy, it will be understood as (type, (1,)) / '(1,)type'.\n",
      "  _np_qint8 = np.dtype([(\"qint8\", np.int8, 1)])\n",
      "/Users/elizabethstenhaug/opt/anaconda3/envs/PythonAdv/lib/python3.6/site-packages/tensorflow/python/framework/dtypes.py:527: FutureWarning: Passing (type, 1) or '1type' as a synonym of type is deprecated; in a future version of numpy, it will be understood as (type, (1,)) / '(1,)type'.\n",
      "  _np_quint8 = np.dtype([(\"quint8\", np.uint8, 1)])\n",
      "/Users/elizabethstenhaug/opt/anaconda3/envs/PythonAdv/lib/python3.6/site-packages/tensorflow/python/framework/dtypes.py:528: FutureWarning: Passing (type, 1) or '1type' as a synonym of type is deprecated; in a future version of numpy, it will be understood as (type, (1,)) / '(1,)type'.\n",
      "  _np_qint16 = np.dtype([(\"qint16\", np.int16, 1)])\n",
      "/Users/elizabethstenhaug/opt/anaconda3/envs/PythonAdv/lib/python3.6/site-packages/tensorflow/python/framework/dtypes.py:529: FutureWarning: Passing (type, 1) or '1type' as a synonym of type is deprecated; in a future version of numpy, it will be understood as (type, (1,)) / '(1,)type'.\n",
      "  _np_quint16 = np.dtype([(\"quint16\", np.uint16, 1)])\n",
      "/Users/elizabethstenhaug/opt/anaconda3/envs/PythonAdv/lib/python3.6/site-packages/tensorflow/python/framework/dtypes.py:530: FutureWarning: Passing (type, 1) or '1type' as a synonym of type is deprecated; in a future version of numpy, it will be understood as (type, (1,)) / '(1,)type'.\n",
      "  _np_qint32 = np.dtype([(\"qint32\", np.int32, 1)])\n",
      "/Users/elizabethstenhaug/opt/anaconda3/envs/PythonAdv/lib/python3.6/site-packages/tensorflow/python/framework/dtypes.py:535: FutureWarning: Passing (type, 1) or '1type' as a synonym of type is deprecated; in a future version of numpy, it will be understood as (type, (1,)) / '(1,)type'.\n",
      "  np_resource = np.dtype([(\"resource\", np.ubyte, 1)])\n",
      "Using TensorFlow backend.\n"
     ]
    }
   ],
   "source": [
    "# Dependencies\n",
    "import math\n",
    "import pandas_datareader as web\n",
    "from sklearn.preprocessing import MinMaxScaler\n",
    "import tensorflow as tf\n",
    "from keras.models import Sequential\n",
    "from keras.layers import Dense, LSTM\n",
    "import matplotlib.pyplot as plt\n",
    "import numpy as np\n",
    "import pandas as pd\n",
    "plt.style.use('fivethirtyeight')"
   ]
  },
  {
   "cell_type": "code",
   "execution_count": 3,
   "metadata": {
    "colab": {
     "base_uri": "https://localhost:8080/",
     "height": 450
    },
    "id": "hTt2GKsDb-O4",
    "outputId": "36c7d3e8-ae3b-4441-dfa5-8b3190604219"
   },
   "outputs": [
    {
     "data": {
      "text/html": [
       "<div>\n",
       "<style scoped>\n",
       "    .dataframe tbody tr th:only-of-type {\n",
       "        vertical-align: middle;\n",
       "    }\n",
       "\n",
       "    .dataframe tbody tr th {\n",
       "        vertical-align: top;\n",
       "    }\n",
       "\n",
       "    .dataframe thead th {\n",
       "        text-align: right;\n",
       "    }\n",
       "</style>\n",
       "<table border=\"1\" class=\"dataframe\">\n",
       "  <thead>\n",
       "    <tr style=\"text-align: right;\">\n",
       "      <th></th>\n",
       "      <th>High</th>\n",
       "      <th>Low</th>\n",
       "      <th>Open</th>\n",
       "      <th>Close</th>\n",
       "      <th>Volume</th>\n",
       "      <th>Adj Close</th>\n",
       "    </tr>\n",
       "    <tr>\n",
       "      <th>Date</th>\n",
       "      <th></th>\n",
       "      <th></th>\n",
       "      <th></th>\n",
       "      <th></th>\n",
       "      <th></th>\n",
       "      <th></th>\n",
       "    </tr>\n",
       "  </thead>\n",
       "  <tbody>\n",
       "    <tr>\n",
       "      <th>2000-01-03</th>\n",
       "      <td>36.375000</td>\n",
       "      <td>35.125000</td>\n",
       "      <td>36.125000</td>\n",
       "      <td>36.031250</td>\n",
       "      <td>2870400.0</td>\n",
       "      <td>24.320517</td>\n",
       "    </tr>\n",
       "    <tr>\n",
       "      <th>2000-01-04</th>\n",
       "      <td>35.343750</td>\n",
       "      <td>34.312500</td>\n",
       "      <td>34.750000</td>\n",
       "      <td>34.468750</td>\n",
       "      <td>3856400.0</td>\n",
       "      <td>23.265871</td>\n",
       "    </tr>\n",
       "    <tr>\n",
       "      <th>2000-01-05</th>\n",
       "      <td>34.968750</td>\n",
       "      <td>33.500000</td>\n",
       "      <td>34.468750</td>\n",
       "      <td>33.687500</td>\n",
       "      <td>4330600.0</td>\n",
       "      <td>22.738533</td>\n",
       "    </tr>\n",
       "    <tr>\n",
       "      <th>2000-01-06</th>\n",
       "      <td>33.125000</td>\n",
       "      <td>31.843750</td>\n",
       "      <td>33.000000</td>\n",
       "      <td>32.093750</td>\n",
       "      <td>8167400.0</td>\n",
       "      <td>21.662779</td>\n",
       "    </tr>\n",
       "    <tr>\n",
       "      <th>2000-01-07</th>\n",
       "      <td>33.843750</td>\n",
       "      <td>31.906250</td>\n",
       "      <td>32.000000</td>\n",
       "      <td>33.750000</td>\n",
       "      <td>4402600.0</td>\n",
       "      <td>22.780724</td>\n",
       "    </tr>\n",
       "    <tr>\n",
       "      <th>2000-01-10</th>\n",
       "      <td>33.750000</td>\n",
       "      <td>32.781250</td>\n",
       "      <td>33.250000</td>\n",
       "      <td>33.093750</td>\n",
       "      <td>2559600.0</td>\n",
       "      <td>22.337767</td>\n",
       "    </tr>\n",
       "    <tr>\n",
       "      <th>2000-01-11</th>\n",
       "      <td>34.250000</td>\n",
       "      <td>33.000000</td>\n",
       "      <td>33.031250</td>\n",
       "      <td>34.093750</td>\n",
       "      <td>3790400.0</td>\n",
       "      <td>23.012753</td>\n",
       "    </tr>\n",
       "    <tr>\n",
       "      <th>2000-01-12</th>\n",
       "      <td>34.375000</td>\n",
       "      <td>33.562500</td>\n",
       "      <td>34.156250</td>\n",
       "      <td>33.718750</td>\n",
       "      <td>3191400.0</td>\n",
       "      <td>22.759636</td>\n",
       "    </tr>\n",
       "    <tr>\n",
       "      <th>2000-01-13</th>\n",
       "      <td>35.000000</td>\n",
       "      <td>34.218750</td>\n",
       "      <td>34.562500</td>\n",
       "      <td>34.500000</td>\n",
       "      <td>5080200.0</td>\n",
       "      <td>23.286961</td>\n",
       "    </tr>\n",
       "    <tr>\n",
       "      <th>2000-01-14</th>\n",
       "      <td>35.218750</td>\n",
       "      <td>34.437500</td>\n",
       "      <td>35.000000</td>\n",
       "      <td>34.625000</td>\n",
       "      <td>2916600.0</td>\n",
       "      <td>23.371332</td>\n",
       "    </tr>\n",
       "    <tr>\n",
       "      <th>2000-01-18</th>\n",
       "      <td>34.250000</td>\n",
       "      <td>33.625000</td>\n",
       "      <td>33.750000</td>\n",
       "      <td>34.000000</td>\n",
       "      <td>1939200.0</td>\n",
       "      <td>22.949463</td>\n",
       "    </tr>\n",
       "    <tr>\n",
       "      <th>2000-01-19</th>\n",
       "      <td>35.906250</td>\n",
       "      <td>33.500000</td>\n",
       "      <td>34.031250</td>\n",
       "      <td>34.968750</td>\n",
       "      <td>3417000.0</td>\n",
       "      <td>23.603348</td>\n",
       "    </tr>\n",
       "    <tr>\n",
       "      <th>2000-01-20</th>\n",
       "      <td>35.093750</td>\n",
       "      <td>33.500000</td>\n",
       "      <td>34.968750</td>\n",
       "      <td>33.843750</td>\n",
       "      <td>3005400.0</td>\n",
       "      <td>22.844002</td>\n",
       "    </tr>\n",
       "    <tr>\n",
       "      <th>2000-01-21</th>\n",
       "      <td>34.500000</td>\n",
       "      <td>32.250000</td>\n",
       "      <td>34.375000</td>\n",
       "      <td>32.406250</td>\n",
       "      <td>5370200.0</td>\n",
       "      <td>21.873709</td>\n",
       "    </tr>\n",
       "    <tr>\n",
       "      <th>2000-01-24</th>\n",
       "      <td>33.125000</td>\n",
       "      <td>31.625000</td>\n",
       "      <td>32.750000</td>\n",
       "      <td>31.750000</td>\n",
       "      <td>5629400.0</td>\n",
       "      <td>21.430754</td>\n",
       "    </tr>\n",
       "    <tr>\n",
       "      <th>2000-01-25</th>\n",
       "      <td>32.718750</td>\n",
       "      <td>31.437500</td>\n",
       "      <td>32.250000</td>\n",
       "      <td>32.562500</td>\n",
       "      <td>4761400.0</td>\n",
       "      <td>21.979176</td>\n",
       "    </tr>\n",
       "    <tr>\n",
       "      <th>2000-01-26</th>\n",
       "      <td>34.250000</td>\n",
       "      <td>32.500000</td>\n",
       "      <td>32.500000</td>\n",
       "      <td>34.062500</td>\n",
       "      <td>5087000.0</td>\n",
       "      <td>22.991661</td>\n",
       "    </tr>\n",
       "    <tr>\n",
       "      <th>2000-01-27</th>\n",
       "      <td>34.000000</td>\n",
       "      <td>32.906250</td>\n",
       "      <td>33.968750</td>\n",
       "      <td>33.656250</td>\n",
       "      <td>4697200.0</td>\n",
       "      <td>22.717438</td>\n",
       "    </tr>\n",
       "    <tr>\n",
       "      <th>2000-01-28</th>\n",
       "      <td>33.718750</td>\n",
       "      <td>31.500000</td>\n",
       "      <td>33.718750</td>\n",
       "      <td>31.687500</td>\n",
       "      <td>4666800.0</td>\n",
       "      <td>21.388567</td>\n",
       "    </tr>\n",
       "    <tr>\n",
       "      <th>2000-01-31</th>\n",
       "      <td>33.125000</td>\n",
       "      <td>31.687500</td>\n",
       "      <td>31.875000</td>\n",
       "      <td>32.937500</td>\n",
       "      <td>3084800.0</td>\n",
       "      <td>22.232294</td>\n",
       "    </tr>\n",
       "    <tr>\n",
       "      <th>2000-02-01</th>\n",
       "      <td>34.062500</td>\n",
       "      <td>32.562500</td>\n",
       "      <td>33.000000</td>\n",
       "      <td>33.718750</td>\n",
       "      <td>2733200.0</td>\n",
       "      <td>22.759636</td>\n",
       "    </tr>\n",
       "    <tr>\n",
       "      <th>2000-02-02</th>\n",
       "      <td>34.562500</td>\n",
       "      <td>33.031250</td>\n",
       "      <td>33.750000</td>\n",
       "      <td>34.000000</td>\n",
       "      <td>3095800.0</td>\n",
       "      <td>22.949463</td>\n",
       "    </tr>\n",
       "    <tr>\n",
       "      <th>2000-02-03</th>\n",
       "      <td>33.875000</td>\n",
       "      <td>32.812500</td>\n",
       "      <td>33.875000</td>\n",
       "      <td>33.031250</td>\n",
       "      <td>4748800.0</td>\n",
       "      <td>22.295584</td>\n",
       "    </tr>\n",
       "    <tr>\n",
       "      <th>2000-02-04</th>\n",
       "      <td>33.750000</td>\n",
       "      <td>31.875000</td>\n",
       "      <td>33.468750</td>\n",
       "      <td>32.312500</td>\n",
       "      <td>4543600.0</td>\n",
       "      <td>21.810434</td>\n",
       "    </tr>\n",
       "    <tr>\n",
       "      <th>2000-02-07</th>\n",
       "      <td>33.250000</td>\n",
       "      <td>32.312500</td>\n",
       "      <td>32.500000</td>\n",
       "      <td>32.843750</td>\n",
       "      <td>2819400.0</td>\n",
       "      <td>22.169016</td>\n",
       "    </tr>\n",
       "    <tr>\n",
       "      <th>2000-02-08</th>\n",
       "      <td>34.375000</td>\n",
       "      <td>32.812500</td>\n",
       "      <td>32.843750</td>\n",
       "      <td>34.343750</td>\n",
       "      <td>3512200.0</td>\n",
       "      <td>23.181490</td>\n",
       "    </tr>\n",
       "    <tr>\n",
       "      <th>2000-02-09</th>\n",
       "      <td>34.343750</td>\n",
       "      <td>33.500000</td>\n",
       "      <td>34.343750</td>\n",
       "      <td>33.593750</td>\n",
       "      <td>2085400.0</td>\n",
       "      <td>22.675259</td>\n",
       "    </tr>\n",
       "    <tr>\n",
       "      <th>2000-02-10</th>\n",
       "      <td>34.125000</td>\n",
       "      <td>33.062500</td>\n",
       "      <td>33.656250</td>\n",
       "      <td>33.218750</td>\n",
       "      <td>1900000.0</td>\n",
       "      <td>22.422142</td>\n",
       "    </tr>\n",
       "    <tr>\n",
       "      <th>2000-02-11</th>\n",
       "      <td>33.437500</td>\n",
       "      <td>33.031250</td>\n",
       "      <td>33.281250</td>\n",
       "      <td>33.031250</td>\n",
       "      <td>2102400.0</td>\n",
       "      <td>22.295584</td>\n",
       "    </tr>\n",
       "    <tr>\n",
       "      <th>2000-02-14</th>\n",
       "      <td>33.062500</td>\n",
       "      <td>32.187500</td>\n",
       "      <td>33.062500</td>\n",
       "      <td>32.625000</td>\n",
       "      <td>1876800.0</td>\n",
       "      <td>22.021362</td>\n",
       "    </tr>\n",
       "    <tr>\n",
       "      <th>...</th>\n",
       "      <td>...</td>\n",
       "      <td>...</td>\n",
       "      <td>...</td>\n",
       "      <td>...</td>\n",
       "      <td>...</td>\n",
       "      <td>...</td>\n",
       "    </tr>\n",
       "    <tr>\n",
       "      <th>2021-01-25</th>\n",
       "      <td>193.110001</td>\n",
       "      <td>189.229996</td>\n",
       "      <td>191.559998</td>\n",
       "      <td>190.149994</td>\n",
       "      <td>3423900.0</td>\n",
       "      <td>189.474548</td>\n",
       "    </tr>\n",
       "    <tr>\n",
       "      <th>2021-01-26</th>\n",
       "      <td>190.559998</td>\n",
       "      <td>186.669998</td>\n",
       "      <td>190.110001</td>\n",
       "      <td>187.699997</td>\n",
       "      <td>3463600.0</td>\n",
       "      <td>187.033249</td>\n",
       "    </tr>\n",
       "    <tr>\n",
       "      <th>2021-01-27</th>\n",
       "      <td>187.699997</td>\n",
       "      <td>176.820007</td>\n",
       "      <td>187.610001</td>\n",
       "      <td>178.279999</td>\n",
       "      <td>6985900.0</td>\n",
       "      <td>177.646713</td>\n",
       "    </tr>\n",
       "    <tr>\n",
       "      <th>2021-01-28</th>\n",
       "      <td>185.419998</td>\n",
       "      <td>177.759995</td>\n",
       "      <td>177.929993</td>\n",
       "      <td>183.580002</td>\n",
       "      <td>3965200.0</td>\n",
       "      <td>182.927887</td>\n",
       "    </tr>\n",
       "    <tr>\n",
       "      <th>2021-01-29</th>\n",
       "      <td>183.500000</td>\n",
       "      <td>180.259995</td>\n",
       "      <td>182.119995</td>\n",
       "      <td>181.169998</td>\n",
       "      <td>3591900.0</td>\n",
       "      <td>180.526443</td>\n",
       "    </tr>\n",
       "    <tr>\n",
       "      <th>2021-02-01</th>\n",
       "      <td>185.000000</td>\n",
       "      <td>179.679993</td>\n",
       "      <td>182.179993</td>\n",
       "      <td>183.570007</td>\n",
       "      <td>2637300.0</td>\n",
       "      <td>182.917923</td>\n",
       "    </tr>\n",
       "    <tr>\n",
       "      <th>2021-02-02</th>\n",
       "      <td>189.039993</td>\n",
       "      <td>185.179993</td>\n",
       "      <td>185.500000</td>\n",
       "      <td>185.589996</td>\n",
       "      <td>2920500.0</td>\n",
       "      <td>184.930740</td>\n",
       "    </tr>\n",
       "    <tr>\n",
       "      <th>2021-02-03</th>\n",
       "      <td>186.929993</td>\n",
       "      <td>183.699997</td>\n",
       "      <td>185.190002</td>\n",
       "      <td>185.110001</td>\n",
       "      <td>2135400.0</td>\n",
       "      <td>184.452454</td>\n",
       "    </tr>\n",
       "    <tr>\n",
       "      <th>2021-02-04</th>\n",
       "      <td>188.740005</td>\n",
       "      <td>184.550003</td>\n",
       "      <td>185.869995</td>\n",
       "      <td>188.589996</td>\n",
       "      <td>2309500.0</td>\n",
       "      <td>187.920090</td>\n",
       "    </tr>\n",
       "    <tr>\n",
       "      <th>2021-02-05</th>\n",
       "      <td>190.330002</td>\n",
       "      <td>187.889999</td>\n",
       "      <td>189.490005</td>\n",
       "      <td>188.860001</td>\n",
       "      <td>2218600.0</td>\n",
       "      <td>188.189133</td>\n",
       "    </tr>\n",
       "    <tr>\n",
       "      <th>2021-02-08</th>\n",
       "      <td>194.479996</td>\n",
       "      <td>190.490005</td>\n",
       "      <td>192.339996</td>\n",
       "      <td>193.949997</td>\n",
       "      <td>3076400.0</td>\n",
       "      <td>193.261047</td>\n",
       "    </tr>\n",
       "    <tr>\n",
       "      <th>2021-02-09</th>\n",
       "      <td>196.250000</td>\n",
       "      <td>193.889999</td>\n",
       "      <td>194.130005</td>\n",
       "      <td>194.289993</td>\n",
       "      <td>2868600.0</td>\n",
       "      <td>193.599838</td>\n",
       "    </tr>\n",
       "    <tr>\n",
       "      <th>2021-02-10</th>\n",
       "      <td>194.449997</td>\n",
       "      <td>190.119995</td>\n",
       "      <td>193.889999</td>\n",
       "      <td>192.440002</td>\n",
       "      <td>2713500.0</td>\n",
       "      <td>191.756424</td>\n",
       "    </tr>\n",
       "    <tr>\n",
       "      <th>2021-02-11</th>\n",
       "      <td>193.169998</td>\n",
       "      <td>190.339996</td>\n",
       "      <td>192.039993</td>\n",
       "      <td>190.410004</td>\n",
       "      <td>1861800.0</td>\n",
       "      <td>189.733627</td>\n",
       "    </tr>\n",
       "    <tr>\n",
       "      <th>2021-02-12</th>\n",
       "      <td>191.869995</td>\n",
       "      <td>190.199997</td>\n",
       "      <td>191.050003</td>\n",
       "      <td>191.429993</td>\n",
       "      <td>1821500.0</td>\n",
       "      <td>190.750000</td>\n",
       "    </tr>\n",
       "    <tr>\n",
       "      <th>2021-02-16</th>\n",
       "      <td>192.580002</td>\n",
       "      <td>190.149994</td>\n",
       "      <td>191.139999</td>\n",
       "      <td>190.589996</td>\n",
       "      <td>2500300.0</td>\n",
       "      <td>190.589996</td>\n",
       "    </tr>\n",
       "    <tr>\n",
       "      <th>2021-02-17</th>\n",
       "      <td>194.220001</td>\n",
       "      <td>189.100006</td>\n",
       "      <td>189.199997</td>\n",
       "      <td>193.600006</td>\n",
       "      <td>3459300.0</td>\n",
       "      <td>193.600006</td>\n",
       "    </tr>\n",
       "    <tr>\n",
       "      <th>2021-02-18</th>\n",
       "      <td>191.559998</td>\n",
       "      <td>188.000000</td>\n",
       "      <td>188.270004</td>\n",
       "      <td>191.410004</td>\n",
       "      <td>2983500.0</td>\n",
       "      <td>191.410004</td>\n",
       "    </tr>\n",
       "    <tr>\n",
       "      <th>2021-02-19</th>\n",
       "      <td>192.449997</td>\n",
       "      <td>188.360001</td>\n",
       "      <td>191.949997</td>\n",
       "      <td>188.820007</td>\n",
       "      <td>3120100.0</td>\n",
       "      <td>188.820007</td>\n",
       "    </tr>\n",
       "    <tr>\n",
       "      <th>2021-02-22</th>\n",
       "      <td>190.410004</td>\n",
       "      <td>187.619995</td>\n",
       "      <td>188.119995</td>\n",
       "      <td>188.990005</td>\n",
       "      <td>2152600.0</td>\n",
       "      <td>188.990005</td>\n",
       "    </tr>\n",
       "    <tr>\n",
       "      <th>2021-02-23</th>\n",
       "      <td>188.729996</td>\n",
       "      <td>184.110001</td>\n",
       "      <td>188.089996</td>\n",
       "      <td>186.360001</td>\n",
       "      <td>2828100.0</td>\n",
       "      <td>186.360001</td>\n",
       "    </tr>\n",
       "    <tr>\n",
       "      <th>2021-02-24</th>\n",
       "      <td>187.729996</td>\n",
       "      <td>184.300003</td>\n",
       "      <td>186.020004</td>\n",
       "      <td>187.080002</td>\n",
       "      <td>3738400.0</td>\n",
       "      <td>187.080002</td>\n",
       "    </tr>\n",
       "    <tr>\n",
       "      <th>2021-02-25</th>\n",
       "      <td>190.300003</td>\n",
       "      <td>184.580002</td>\n",
       "      <td>188.520004</td>\n",
       "      <td>185.080002</td>\n",
       "      <td>4355600.0</td>\n",
       "      <td>185.080002</td>\n",
       "    </tr>\n",
       "    <tr>\n",
       "      <th>2021-02-26</th>\n",
       "      <td>186.830002</td>\n",
       "      <td>182.179993</td>\n",
       "      <td>186.149994</td>\n",
       "      <td>183.440002</td>\n",
       "      <td>4335100.0</td>\n",
       "      <td>183.440002</td>\n",
       "    </tr>\n",
       "    <tr>\n",
       "      <th>2021-03-01</th>\n",
       "      <td>187.580002</td>\n",
       "      <td>184.850006</td>\n",
       "      <td>185.949997</td>\n",
       "      <td>186.089996</td>\n",
       "      <td>3655400.0</td>\n",
       "      <td>186.089996</td>\n",
       "    </tr>\n",
       "    <tr>\n",
       "      <th>2021-03-02</th>\n",
       "      <td>193.580002</td>\n",
       "      <td>172.169998</td>\n",
       "      <td>188.009995</td>\n",
       "      <td>173.490005</td>\n",
       "      <td>22069500.0</td>\n",
       "      <td>173.490005</td>\n",
       "    </tr>\n",
       "    <tr>\n",
       "      <th>2021-03-03</th>\n",
       "      <td>176.869995</td>\n",
       "      <td>172.589996</td>\n",
       "      <td>175.000000</td>\n",
       "      <td>173.610001</td>\n",
       "      <td>8277000.0</td>\n",
       "      <td>173.610001</td>\n",
       "    </tr>\n",
       "    <tr>\n",
       "      <th>2021-03-04</th>\n",
       "      <td>174.610001</td>\n",
       "      <td>166.830002</td>\n",
       "      <td>172.369995</td>\n",
       "      <td>169.820007</td>\n",
       "      <td>7105000.0</td>\n",
       "      <td>169.820007</td>\n",
       "    </tr>\n",
       "    <tr>\n",
       "      <th>2021-03-05</th>\n",
       "      <td>174.979996</td>\n",
       "      <td>167.050003</td>\n",
       "      <td>170.279999</td>\n",
       "      <td>172.610001</td>\n",
       "      <td>6006100.0</td>\n",
       "      <td>172.610001</td>\n",
       "    </tr>\n",
       "    <tr>\n",
       "      <th>2021-03-08</th>\n",
       "      <td>178.470001</td>\n",
       "      <td>173.600006</td>\n",
       "      <td>175.270004</td>\n",
       "      <td>176.869995</td>\n",
       "      <td>4479504.0</td>\n",
       "      <td>176.869995</td>\n",
       "    </tr>\n",
       "  </tbody>\n",
       "</table>\n",
       "<p>5328 rows × 6 columns</p>\n",
       "</div>"
      ],
      "text/plain": [
       "                  High         Low        Open       Close      Volume  \\\n",
       "Date                                                                     \n",
       "2000-01-03   36.375000   35.125000   36.125000   36.031250   2870400.0   \n",
       "2000-01-04   35.343750   34.312500   34.750000   34.468750   3856400.0   \n",
       "2000-01-05   34.968750   33.500000   34.468750   33.687500   4330600.0   \n",
       "2000-01-06   33.125000   31.843750   33.000000   32.093750   8167400.0   \n",
       "2000-01-07   33.843750   31.906250   32.000000   33.750000   4402600.0   \n",
       "2000-01-10   33.750000   32.781250   33.250000   33.093750   2559600.0   \n",
       "2000-01-11   34.250000   33.000000   33.031250   34.093750   3790400.0   \n",
       "2000-01-12   34.375000   33.562500   34.156250   33.718750   3191400.0   \n",
       "2000-01-13   35.000000   34.218750   34.562500   34.500000   5080200.0   \n",
       "2000-01-14   35.218750   34.437500   35.000000   34.625000   2916600.0   \n",
       "2000-01-18   34.250000   33.625000   33.750000   34.000000   1939200.0   \n",
       "2000-01-19   35.906250   33.500000   34.031250   34.968750   3417000.0   \n",
       "2000-01-20   35.093750   33.500000   34.968750   33.843750   3005400.0   \n",
       "2000-01-21   34.500000   32.250000   34.375000   32.406250   5370200.0   \n",
       "2000-01-24   33.125000   31.625000   32.750000   31.750000   5629400.0   \n",
       "2000-01-25   32.718750   31.437500   32.250000   32.562500   4761400.0   \n",
       "2000-01-26   34.250000   32.500000   32.500000   34.062500   5087000.0   \n",
       "2000-01-27   34.000000   32.906250   33.968750   33.656250   4697200.0   \n",
       "2000-01-28   33.718750   31.500000   33.718750   31.687500   4666800.0   \n",
       "2000-01-31   33.125000   31.687500   31.875000   32.937500   3084800.0   \n",
       "2000-02-01   34.062500   32.562500   33.000000   33.718750   2733200.0   \n",
       "2000-02-02   34.562500   33.031250   33.750000   34.000000   3095800.0   \n",
       "2000-02-03   33.875000   32.812500   33.875000   33.031250   4748800.0   \n",
       "2000-02-04   33.750000   31.875000   33.468750   32.312500   4543600.0   \n",
       "2000-02-07   33.250000   32.312500   32.500000   32.843750   2819400.0   \n",
       "2000-02-08   34.375000   32.812500   32.843750   34.343750   3512200.0   \n",
       "2000-02-09   34.343750   33.500000   34.343750   33.593750   2085400.0   \n",
       "2000-02-10   34.125000   33.062500   33.656250   33.218750   1900000.0   \n",
       "2000-02-11   33.437500   33.031250   33.281250   33.031250   2102400.0   \n",
       "2000-02-14   33.062500   32.187500   33.062500   32.625000   1876800.0   \n",
       "...                ...         ...         ...         ...         ...   \n",
       "2021-01-25  193.110001  189.229996  191.559998  190.149994   3423900.0   \n",
       "2021-01-26  190.559998  186.669998  190.110001  187.699997   3463600.0   \n",
       "2021-01-27  187.699997  176.820007  187.610001  178.279999   6985900.0   \n",
       "2021-01-28  185.419998  177.759995  177.929993  183.580002   3965200.0   \n",
       "2021-01-29  183.500000  180.259995  182.119995  181.169998   3591900.0   \n",
       "2021-02-01  185.000000  179.679993  182.179993  183.570007   2637300.0   \n",
       "2021-02-02  189.039993  185.179993  185.500000  185.589996   2920500.0   \n",
       "2021-02-03  186.929993  183.699997  185.190002  185.110001   2135400.0   \n",
       "2021-02-04  188.740005  184.550003  185.869995  188.589996   2309500.0   \n",
       "2021-02-05  190.330002  187.889999  189.490005  188.860001   2218600.0   \n",
       "2021-02-08  194.479996  190.490005  192.339996  193.949997   3076400.0   \n",
       "2021-02-09  196.250000  193.889999  194.130005  194.289993   2868600.0   \n",
       "2021-02-10  194.449997  190.119995  193.889999  192.440002   2713500.0   \n",
       "2021-02-11  193.169998  190.339996  192.039993  190.410004   1861800.0   \n",
       "2021-02-12  191.869995  190.199997  191.050003  191.429993   1821500.0   \n",
       "2021-02-16  192.580002  190.149994  191.139999  190.589996   2500300.0   \n",
       "2021-02-17  194.220001  189.100006  189.199997  193.600006   3459300.0   \n",
       "2021-02-18  191.559998  188.000000  188.270004  191.410004   2983500.0   \n",
       "2021-02-19  192.449997  188.360001  191.949997  188.820007   3120100.0   \n",
       "2021-02-22  190.410004  187.619995  188.119995  188.990005   2152600.0   \n",
       "2021-02-23  188.729996  184.110001  188.089996  186.360001   2828100.0   \n",
       "2021-02-24  187.729996  184.300003  186.020004  187.080002   3738400.0   \n",
       "2021-02-25  190.300003  184.580002  188.520004  185.080002   4355600.0   \n",
       "2021-02-26  186.830002  182.179993  186.149994  183.440002   4335100.0   \n",
       "2021-03-01  187.580002  184.850006  185.949997  186.089996   3655400.0   \n",
       "2021-03-02  193.580002  172.169998  188.009995  173.490005  22069500.0   \n",
       "2021-03-03  176.869995  172.589996  175.000000  173.610001   8277000.0   \n",
       "2021-03-04  174.610001  166.830002  172.369995  169.820007   7105000.0   \n",
       "2021-03-05  174.979996  167.050003  170.279999  172.610001   6006100.0   \n",
       "2021-03-08  178.470001  173.600006  175.270004  176.869995   4479504.0   \n",
       "\n",
       "             Adj Close  \n",
       "Date                    \n",
       "2000-01-03   24.320517  \n",
       "2000-01-04   23.265871  \n",
       "2000-01-05   22.738533  \n",
       "2000-01-06   21.662779  \n",
       "2000-01-07   22.780724  \n",
       "2000-01-10   22.337767  \n",
       "2000-01-11   23.012753  \n",
       "2000-01-12   22.759636  \n",
       "2000-01-13   23.286961  \n",
       "2000-01-14   23.371332  \n",
       "2000-01-18   22.949463  \n",
       "2000-01-19   23.603348  \n",
       "2000-01-20   22.844002  \n",
       "2000-01-21   21.873709  \n",
       "2000-01-24   21.430754  \n",
       "2000-01-25   21.979176  \n",
       "2000-01-26   22.991661  \n",
       "2000-01-27   22.717438  \n",
       "2000-01-28   21.388567  \n",
       "2000-01-31   22.232294  \n",
       "2000-02-01   22.759636  \n",
       "2000-02-02   22.949463  \n",
       "2000-02-03   22.295584  \n",
       "2000-02-04   21.810434  \n",
       "2000-02-07   22.169016  \n",
       "2000-02-08   23.181490  \n",
       "2000-02-09   22.675259  \n",
       "2000-02-10   22.422142  \n",
       "2000-02-11   22.295584  \n",
       "2000-02-14   22.021362  \n",
       "...                ...  \n",
       "2021-01-25  189.474548  \n",
       "2021-01-26  187.033249  \n",
       "2021-01-27  177.646713  \n",
       "2021-01-28  182.927887  \n",
       "2021-01-29  180.526443  \n",
       "2021-02-01  182.917923  \n",
       "2021-02-02  184.930740  \n",
       "2021-02-03  184.452454  \n",
       "2021-02-04  187.920090  \n",
       "2021-02-05  188.189133  \n",
       "2021-02-08  193.261047  \n",
       "2021-02-09  193.599838  \n",
       "2021-02-10  191.756424  \n",
       "2021-02-11  189.733627  \n",
       "2021-02-12  190.750000  \n",
       "2021-02-16  190.589996  \n",
       "2021-02-17  193.600006  \n",
       "2021-02-18  191.410004  \n",
       "2021-02-19  188.820007  \n",
       "2021-02-22  188.990005  \n",
       "2021-02-23  186.360001  \n",
       "2021-02-24  187.080002  \n",
       "2021-02-25  185.080002  \n",
       "2021-02-26  183.440002  \n",
       "2021-03-01  186.089996  \n",
       "2021-03-02  173.490005  \n",
       "2021-03-03  173.610001  \n",
       "2021-03-04  169.820007  \n",
       "2021-03-05  172.610001  \n",
       "2021-03-08  176.869995  \n",
       "\n",
       "[5328 rows x 6 columns]"
      ]
     },
     "execution_count": 3,
     "metadata": {},
     "output_type": "execute_result"
    }
   ],
   "source": [
    "# get the stock quote\n",
    "TGT_df = web.DataReader('TGT', data_source='yahoo', start='2000-01-01', end ='2021-12-31')\n",
    "TGT_df"
   ]
  },
  {
   "cell_type": "code",
   "execution_count": 4,
   "metadata": {
    "colab": {
     "base_uri": "https://localhost:8080/"
    },
    "id": "MThGSz0gclvs",
    "outputId": "4d7eef87-be58-4523-f93d-9178bb597f49"
   },
   "outputs": [
    {
     "data": {
      "text/plain": [
       "(5328, 6)"
      ]
     },
     "execution_count": 4,
     "metadata": {},
     "output_type": "execute_result"
    }
   ],
   "source": [
    "# get the total rows and columns in the AAPL Dataset\n",
    "TGT_df.shape"
   ]
  },
  {
   "cell_type": "code",
   "execution_count": 5,
   "metadata": {
    "colab": {
     "base_uri": "https://localhost:8080/"
    },
    "id": "6NmZ0rO8blsm",
    "outputId": "66f0f010-fe81-445a-fe76-f13a31436e77"
   },
   "outputs": [
    {
     "data": {
      "text/plain": [
       "array([[ 36.03125   ],\n",
       "       [ 34.46875   ],\n",
       "       [ 33.6875    ],\n",
       "       ...,\n",
       "       [169.82000732],\n",
       "       [172.61000061],\n",
       "       [176.86999512]])"
      ]
     },
     "execution_count": 5,
     "metadata": {},
     "output_type": "execute_result"
    }
   ],
   "source": [
    "# create a closing price dataset\n",
    "Closing_Price_TGT_df = TGT_df.filter(['Close'])\n",
    "\n",
    "# convert the the closing price dataset to a array\n",
    "Closing_Price_array_TGT_df = Closing_Price_TGT_df.values\n",
    "\n",
    "Closing_Price_array_TGT_df"
   ]
  },
  {
   "cell_type": "code",
   "execution_count": 6,
   "metadata": {
    "colab": {
     "base_uri": "https://localhost:8080/"
    },
    "id": "491_6cAse8Kt",
    "outputId": "fd0ea7ed-480f-407d-cefd-218186355c83"
   },
   "outputs": [
    {
     "data": {
      "text/plain": [
       "4796"
      ]
     },
     "execution_count": 6,
     "metadata": {},
     "output_type": "execute_result"
    }
   ],
   "source": [
    "# get the number of rows to train the model on (90 %)\n",
    "train_closing_price_TGT_len = math.ceil(len(Closing_Price_array_TGT_df) * 0.9) # rounded up\n",
    "\n",
    "train_closing_price_TGT_len"
   ]
  },
  {
   "cell_type": "code",
   "execution_count": 7,
   "metadata": {
    "colab": {
     "base_uri": "https://localhost:8080/"
    },
    "id": "3AYQTVJbgRyy",
    "outputId": "67807d33-de3b-4e49-c289-3e28dc833168"
   },
   "outputs": [
    {
     "data": {
      "text/plain": [
       "array([[0.07531188],\n",
       "       [0.06645166],\n",
       "       [0.06202155],\n",
       "       ...,\n",
       "       [0.83396656],\n",
       "       [0.84978733],\n",
       "       [0.8739438 ]])"
      ]
     },
     "execution_count": 7,
     "metadata": {},
     "output_type": "execute_result"
    }
   ],
   "source": [
    "# Scale de closing price dataset between 0 and 1\n",
    "scale_TGT = MinMaxScaler(feature_range=(0,1))\n",
    "scaled_closing_price_TGT_df = scale_TGT.fit_transform(Closing_Price_array_TGT_df)\n",
    "scaled_closing_price_TGT_df"
   ]
  },
  {
   "cell_type": "code",
   "execution_count": 11,
   "metadata": {
    "id": "vM4u6NXIiRT_"
   },
   "outputs": [],
   "source": [
    "# Training Data\n",
    "train_closing_price_TGT = scaled_closing_price_TGT_df[0:train_closing_price_TGT_len, :]\n",
    "# Split Data\n",
    "x_train =[]\n",
    "y_train=[]\n",
    "\n",
    "for i in range(80, len(train_closing_price_TGT)):\n",
    "  x_train.append(train_closing_price_TGT[i-80:i,0])\n",
    "  y_train.append(train_closing_price_TGT[i,0])\n"
   ]
  },
  {
   "cell_type": "code",
   "execution_count": 12,
   "metadata": {
    "id": "59u2na0ZJ6Vg"
   },
   "outputs": [],
   "source": [
    "# convert to numpy arrays\n",
    "x_train = np.array(x_train)\n",
    "y_train = np.array(y_train)\n"
   ]
  },
  {
   "cell_type": "code",
   "execution_count": 13,
   "metadata": {
    "id": "ymk9yUhaL6V4"
   },
   "outputs": [],
   "source": [
    "# Reshape the dataset\n",
    "x_train = np.reshape(x_train, (x_train.shape[0],x_train.shape[1],1))"
   ]
  },
  {
   "cell_type": "code",
   "execution_count": 14,
   "metadata": {
    "colab": {
     "base_uri": "https://localhost:8080/"
    },
    "id": "oTu98pgvKzrQ",
    "outputId": "ac69abca-2f45-4f3f-ad81-e3badf0daca1"
   },
   "outputs": [
    {
     "data": {
      "text/plain": [
       "(4716, 80, 1)"
      ]
     },
     "execution_count": 14,
     "metadata": {},
     "output_type": "execute_result"
    }
   ],
   "source": [
    "x_train.shape"
   ]
  },
  {
   "cell_type": "code",
   "execution_count": 15,
   "metadata": {
    "id": "voJohWBaiOYr"
   },
   "outputs": [
    {
     "name": "stdout",
     "output_type": "stream",
     "text": [
      "WARNING:tensorflow:From /Users/elizabethstenhaug/opt/anaconda3/envs/PythonAdv/lib/python3.6/site-packages/tensorflow/python/framework/op_def_library.py:263: colocate_with (from tensorflow.python.framework.ops) is deprecated and will be removed in a future version.\n",
      "Instructions for updating:\n",
      "Colocations handled automatically by placer.\n"
     ]
    }
   ],
   "source": [
    "# Building the LSTM model\n",
    "#x_train = tf.convert_to_tensor(x_train)\n",
    "#y_train = tf.convert_to_tensor(y_train)\n",
    "\n",
    "TGT_model = Sequential()\n",
    "TGT_model.add(LSTM(50, return_sequences=True, input_shape= (x_train.shape[1],1)))\n",
    "TGT_model.add(LSTM(50, return_sequences=False))\n",
    "TGT_model.add(Dense(25))\n",
    "TGT_model.add(Dense(1))"
   ]
  },
  {
   "cell_type": "code",
   "execution_count": 17,
   "metadata": {
    "id": "8IntKy1TU_1F"
   },
   "outputs": [],
   "source": [
    "# Compile  the LSTM model\n",
    "TGT_model.compile(optimizer='adam', loss='mean_squared_error')\n",
    "#'categorical_crossentropy'"
   ]
  },
  {
   "cell_type": "code",
   "execution_count": 18,
   "metadata": {
    "colab": {
     "base_uri": "https://localhost:8080/"
    },
    "id": "sKBZM4h_ZS-Z",
    "outputId": "6806aaf3-b444-4164-df4a-171453d55d80"
   },
   "outputs": [
    {
     "name": "stdout",
     "output_type": "stream",
     "text": [
      "WARNING:tensorflow:From /Users/elizabethstenhaug/opt/anaconda3/envs/PythonAdv/lib/python3.6/site-packages/tensorflow/python/ops/math_ops.py:3066: to_int32 (from tensorflow.python.ops.math_ops) is deprecated and will be removed in a future version.\n",
      "Instructions for updating:\n",
      "Use tf.cast instead.\n",
      "Epoch 1/1\n",
      "4716/4716 [==============================] - 958s 203ms/step - loss: 2.2906e-04\n"
     ]
    },
    {
     "data": {
      "text/plain": [
       "<keras.callbacks.History at 0x7fd4515c0da0>"
      ]
     },
     "execution_count": 18,
     "metadata": {},
     "output_type": "execute_result"
    }
   ],
   "source": [
    "# training the AAPL_model\n",
    "TGT_model.fit(x_train,y_train,epochs=1,batch_size=1)"
   ]
  },
  {
   "cell_type": "code",
   "execution_count": 20,
   "metadata": {
    "id": "zRI6eEVtdBSE"
   },
   "outputs": [],
   "source": [
    "# Setting the testing Dataset\n",
    "# scaled testing dataset set from index 1743 to 2003\n",
    "TGT_test_dataset= scaled_closing_price_TGT_df[train_closing_price_TGT_len - 80: , :]\n",
    "\n",
    "#setting the x and y test data\n",
    "x_test = []\n",
    "y_test = Closing_Price_array_TGT_df[train_closing_price_TGT_len, :]\n",
    "for i in range(80,len(TGT_test_dataset)):\n",
    "    x_test.append(TGT_test_dataset[i-80:i, 0])\n"
   ]
  },
  {
   "cell_type": "code",
   "execution_count": 21,
   "metadata": {
    "colab": {
     "base_uri": "https://localhost:8080/"
    },
    "id": "E5s3J3f3egyx",
    "outputId": "68e4ffcd-9dfe-4ce0-fccf-a0e7dcfb3188"
   },
   "outputs": [
    {
     "name": "stdout",
     "output_type": "stream",
     "text": [
      "[[0.37266798 0.36217749 0.35849163 ... 0.26974765 0.27139211 0.28148567]\n",
      " [0.36217749 0.35849163 0.35208389 ... 0.27139211 0.28148567 0.27995464]\n",
      " [0.35849163 0.35208389 0.35026932 ... 0.28148567 0.27995464 0.27757298]\n",
      " ...\n",
      " [0.77051319 0.78678761 0.74941876 ... 0.9262262  0.85477743 0.85545787]\n",
      " [0.78678761 0.74941876 0.7673377  ... 0.85477743 0.85545787 0.83396656]\n",
      " [0.74941876 0.7673377  0.77652395 ... 0.85545787 0.83396656 0.84978733]]\n"
     ]
    }
   ],
   "source": [
    "# Convert the test dataset to array\n",
    "x_test = np.array(x_test)\n",
    "print (x_test)"
   ]
  },
  {
   "cell_type": "code",
   "execution_count": 22,
   "metadata": {
    "id": "3P7Smg6far6X"
   },
   "outputs": [],
   "source": [
    "#reshape the test dataset\n",
    "\n",
    "x_test = np.reshape(x_test, (x_test.shape[0],x_test.shape[1],1))"
   ]
  },
  {
   "cell_type": "code",
   "execution_count": 23,
   "metadata": {
    "colab": {
     "base_uri": "https://localhost:8080/"
    },
    "id": "uQLWL1VamH4a",
    "outputId": "5e77c4af-fea6-41a9-89f6-56ce8f01396f"
   },
   "outputs": [
    {
     "data": {
      "text/plain": [
       "(532, 80, 1)"
      ]
     },
     "execution_count": 23,
     "metadata": {},
     "output_type": "execute_result"
    }
   ],
   "source": [
    "x_test.shape"
   ]
  },
  {
   "cell_type": "code",
   "execution_count": 24,
   "metadata": {
    "id": "W-gWpmJSmR3H"
   },
   "outputs": [],
   "source": [
    "# getting the model predicted closing price value\n",
    "\n",
    "predictions = TGT_model.predict(x_test)\n",
    "predictions = scale_TGT.inverse_transform(predictions)"
   ]
  },
  {
   "cell_type": "code",
   "execution_count": 25,
   "metadata": {
    "colab": {
     "base_uri": "https://localhost:8080/"
    },
    "id": "VPySoSOGmqX3",
    "outputId": "5af6bb0a-621d-48f4-c1d5-ea1f5c127769"
   },
   "outputs": [
    {
     "data": {
      "text/plain": [
       "41.780627573343146"
      ]
     },
     "execution_count": 25,
     "metadata": {},
     "output_type": "execute_result"
    }
   ],
   "source": [
    "# getting the root mean squared error \n",
    "\n",
    "rmse = np.sqrt(np.mean(predictions - y_test) **2)\n",
    "rmse"
   ]
  },
  {
   "cell_type": "markdown",
   "metadata": {
    "id": "K_JZcsEzwF_L"
   },
   "source": []
  },
  {
   "cell_type": "code",
   "execution_count": 26,
   "metadata": {
    "colab": {
     "base_uri": "https://localhost:8080/",
     "height": 677
    },
    "id": "0leszgAPqgKu",
    "outputId": "2c0fda71-bc6d-435a-fb33-aac7fa523633"
   },
   "outputs": [
    {
     "name": "stderr",
     "output_type": "stream",
     "text": [
      "/Users/elizabethstenhaug/opt/anaconda3/envs/PythonAdv/lib/python3.6/site-packages/ipykernel_launcher.py:5: SettingWithCopyWarning: \n",
      "A value is trying to be set on a copy of a slice from a DataFrame.\n",
      "Try using .loc[row_indexer,col_indexer] = value instead\n",
      "\n",
      "See the caveats in the documentation: http://pandas.pydata.org/pandas-docs/stable/indexing.html#indexing-view-versus-copy\n",
      "  \"\"\"\n",
      "/Users/elizabethstenhaug/opt/anaconda3/envs/PythonAdv/lib/python3.6/site-packages/pandas/plotting/_converter.py:129: FutureWarning: Using an implicitly registered datetime converter for a matplotlib plotting method. The converter was registered by pandas on import. Future versions of pandas will require you to explicitly register matplotlib converters.\n",
      "\n",
      "To register the converters:\n",
      "\t>>> from pandas.plotting import register_matplotlib_converters\n",
      "\t>>> register_matplotlib_converters()\n",
      "  warnings.warn(msg, FutureWarning)\n"
     ]
    },
    {
     "data": {
      "text/plain": [
       "<matplotlib.legend.Legend at 0x7fd45d2e3a20>"
      ]
     },
     "execution_count": 26,
     "metadata": {},
     "output_type": "execute_result"
    },
    {
     "data": {
      "image/png": "[encoded data removed]",
      "text/plain": [
       "<Figure size 1152x576 with 1 Axes>"
      ]
     },
     "metadata": {},
     "output_type": "display_data"
    }
   ],
   "source": [
    "# Plot the Dataset\n",
    "train_data = Closing_Price_TGT_df[:train_closing_price_TGT_len]\n",
    "validation_data = Closing_Price_TGT_df[train_closing_price_TGT_len:]\n",
    "\n",
    "validation_data['Predictions'] = predictions\n",
    "plt.figure(figsize=(16,8))\n",
    "plt.title('TGT Model', color='crimson')\n",
    "plt.xlabel('date', fontsize=18, color='crimson')\n",
    "plt.ylabel('closing price USD', color='crimson')\n",
    "plt.plot(train_data['Close'], color='darkcyan')\n",
    "plt.plot(validation_data['Close'], color='limegreen')\n",
    "plt.plot(validation_data['Predictions'], color = 'lightcoral')\n",
    "plt.legend(['Train', 'Validation', 'Predictions'])\n"
   ]
  },
  {
   "cell_type": "code",
   "execution_count": null,
   "metadata": {},
   "outputs": [],
   "source": []
  }
 ],
 "metadata": {
  "colab": {
   "collapsed_sections": [],
   "name": "Untitled0.ipynb",
   "provenance": []
  },
  "kernelspec": {
   "display_name": "Python 3",
   "language": "python",
   "name": "python3"
  },
  "language_info": {
   "codemirror_mode": {
    "name": "ipython",
    "version": 3
   },
   "file_extension": ".py",
   "mimetype": "text/x-python",
   "name": "python",
   "nbconvert_exporter": "python",
   "pygments_lexer": "ipython3",
   "version": "3.6.12"
  }
 },
 "nbformat": 4,
 "nbformat_minor": 1
}
