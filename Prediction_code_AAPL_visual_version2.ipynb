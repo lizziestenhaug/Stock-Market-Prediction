{
 "cells": [
  {
   "cell_type": "code",
   "execution_count": 1,
   "metadata": {
    "id": "qWv4xTLyamTk"
   },
   "outputs": [
    {
     "name": "stderr",
     "output_type": "stream",
     "text": [
      "/Users/elizabethstenhaug/opt/anaconda3/envs/PythonAdv/lib/python3.6/site-packages/tensorflow/python/framework/dtypes.py:526: FutureWarning: Passing (type, 1) or '1type' as a synonym of type is deprecated; in a future version of numpy, it will be understood as (type, (1,)) / '(1,)type'.\n",
      "  _np_qint8 = np.dtype([(\"qint8\", np.int8, 1)])\n",
      "/Users/elizabethstenhaug/opt/anaconda3/envs/PythonAdv/lib/python3.6/site-packages/tensorflow/python/framework/dtypes.py:527: FutureWarning: Passing (type, 1) or '1type' as a synonym of type is deprecated; in a future version of numpy, it will be understood as (type, (1,)) / '(1,)type'.\n",
      "  _np_quint8 = np.dtype([(\"quint8\", np.uint8, 1)])\n",
      "/Users/elizabethstenhaug/opt/anaconda3/envs/PythonAdv/lib/python3.6/site-packages/tensorflow/python/framework/dtypes.py:528: FutureWarning: Passing (type, 1) or '1type' as a synonym of type is deprecated; in a future version of numpy, it will be understood as (type, (1,)) / '(1,)type'.\n",
      "  _np_qint16 = np.dtype([(\"qint16\", np.int16, 1)])\n",
      "/Users/elizabethstenhaug/opt/anaconda3/envs/PythonAdv/lib/python3.6/site-packages/tensorflow/python/framework/dtypes.py:529: FutureWarning: Passing (type, 1) or '1type' as a synonym of type is deprecated; in a future version of numpy, it will be understood as (type, (1,)) / '(1,)type'.\n",
      "  _np_quint16 = np.dtype([(\"quint16\", np.uint16, 1)])\n",
      "/Users/elizabethstenhaug/opt/anaconda3/envs/PythonAdv/lib/python3.6/site-packages/tensorflow/python/framework/dtypes.py:530: FutureWarning: Passing (type, 1) or '1type' as a synonym of type is deprecated; in a future version of numpy, it will be understood as (type, (1,)) / '(1,)type'.\n",
      "  _np_qint32 = np.dtype([(\"qint32\", np.int32, 1)])\n",
      "/Users/elizabethstenhaug/opt/anaconda3/envs/PythonAdv/lib/python3.6/site-packages/tensorflow/python/framework/dtypes.py:535: FutureWarning: Passing (type, 1) or '1type' as a synonym of type is deprecated; in a future version of numpy, it will be understood as (type, (1,)) / '(1,)type'.\n",
      "  np_resource = np.dtype([(\"resource\", np.ubyte, 1)])\n",
      "Using TensorFlow backend.\n"
     ]
    }
   ],
   "source": [
    "# Dependencies\n",
    "import math\n",
    "import pandas_datareader as web\n",
    "from sklearn.preprocessing import MinMaxScaler\n",
    "import tensorflow as tf\n",
    "from keras.models import Sequential\n",
    "from keras.layers import Dense, LSTM\n",
    "import matplotlib.pyplot as plt\n",
    "import numpy as np\n",
    "import pandas as pd\n",
    "plt.style.use('fivethirtyeight')"
   ]
  },
  {
   "cell_type": "code",
   "execution_count": 2,
   "metadata": {
    "colab": {
     "base_uri": "https://localhost:8080/",
     "height": 450
    },
    "id": "hTt2GKsDb-O4",
    "outputId": "36c7d3e8-ae3b-4441-dfa5-8b3190604219"
   },
   "outputs": [
    {
     "data": {
      "text/html": [
       "<div>\n",
       "<style scoped>\n",
       "    .dataframe tbody tr th:only-of-type {\n",
       "        vertical-align: middle;\n",
       "    }\n",
       "\n",
       "    .dataframe tbody tr th {\n",
       "        vertical-align: top;\n",
       "    }\n",
       "\n",
       "    .dataframe thead th {\n",
       "        text-align: right;\n",
       "    }\n",
       "</style>\n",
       "<table border=\"1\" class=\"dataframe\">\n",
       "  <thead>\n",
       "    <tr style=\"text-align: right;\">\n",
       "      <th></th>\n",
       "      <th>High</th>\n",
       "      <th>Low</th>\n",
       "      <th>Open</th>\n",
       "      <th>Close</th>\n",
       "      <th>Volume</th>\n",
       "      <th>Adj Close</th>\n",
       "    </tr>\n",
       "    <tr>\n",
       "      <th>Date</th>\n",
       "      <th></th>\n",
       "      <th></th>\n",
       "      <th></th>\n",
       "      <th></th>\n",
       "      <th></th>\n",
       "      <th></th>\n",
       "    </tr>\n",
       "  </thead>\n",
       "  <tbody>\n",
       "    <tr>\n",
       "      <th>2000-01-03</th>\n",
       "      <td>1.004464</td>\n",
       "      <td>0.907924</td>\n",
       "      <td>0.936384</td>\n",
       "      <td>0.999442</td>\n",
       "      <td>5.357968e+08</td>\n",
       "      <td>0.860883</td>\n",
       "    </tr>\n",
       "    <tr>\n",
       "      <th>2000-01-04</th>\n",
       "      <td>0.987723</td>\n",
       "      <td>0.903460</td>\n",
       "      <td>0.966518</td>\n",
       "      <td>0.915179</td>\n",
       "      <td>5.123776e+08</td>\n",
       "      <td>0.788302</td>\n",
       "    </tr>\n",
       "    <tr>\n",
       "      <th>2000-01-05</th>\n",
       "      <td>0.987165</td>\n",
       "      <td>0.919643</td>\n",
       "      <td>0.926339</td>\n",
       "      <td>0.928571</td>\n",
       "      <td>7.783216e+08</td>\n",
       "      <td>0.799837</td>\n",
       "    </tr>\n",
       "    <tr>\n",
       "      <th>2000-01-06</th>\n",
       "      <td>0.955357</td>\n",
       "      <td>0.848214</td>\n",
       "      <td>0.947545</td>\n",
       "      <td>0.848214</td>\n",
       "      <td>7.679728e+08</td>\n",
       "      <td>0.730621</td>\n",
       "    </tr>\n",
       "    <tr>\n",
       "      <th>2000-01-07</th>\n",
       "      <td>0.901786</td>\n",
       "      <td>0.852679</td>\n",
       "      <td>0.861607</td>\n",
       "      <td>0.888393</td>\n",
       "      <td>4.607344e+08</td>\n",
       "      <td>0.765229</td>\n",
       "    </tr>\n",
       "    <tr>\n",
       "      <th>2000-01-10</th>\n",
       "      <td>0.912946</td>\n",
       "      <td>0.845982</td>\n",
       "      <td>0.910714</td>\n",
       "      <td>0.872768</td>\n",
       "      <td>5.050640e+08</td>\n",
       "      <td>0.751771</td>\n",
       "    </tr>\n",
       "    <tr>\n",
       "      <th>2000-01-11</th>\n",
       "      <td>0.887277</td>\n",
       "      <td>0.808036</td>\n",
       "      <td>0.856585</td>\n",
       "      <td>0.828125</td>\n",
       "      <td>4.415488e+08</td>\n",
       "      <td>0.713317</td>\n",
       "    </tr>\n",
       "    <tr>\n",
       "      <th>2000-01-12</th>\n",
       "      <td>0.852679</td>\n",
       "      <td>0.772321</td>\n",
       "      <td>0.848214</td>\n",
       "      <td>0.778460</td>\n",
       "      <td>9.760688e+08</td>\n",
       "      <td>0.670537</td>\n",
       "    </tr>\n",
       "    <tr>\n",
       "      <th>2000-01-13</th>\n",
       "      <td>0.881696</td>\n",
       "      <td>0.825893</td>\n",
       "      <td>0.843610</td>\n",
       "      <td>0.863839</td>\n",
       "      <td>1.032685e+09</td>\n",
       "      <td>0.744079</td>\n",
       "    </tr>\n",
       "    <tr>\n",
       "      <th>2000-01-14</th>\n",
       "      <td>0.912946</td>\n",
       "      <td>0.887277</td>\n",
       "      <td>0.892857</td>\n",
       "      <td>0.896763</td>\n",
       "      <td>3.903760e+08</td>\n",
       "      <td>0.772439</td>\n",
       "    </tr>\n",
       "    <tr>\n",
       "      <th>2000-01-18</th>\n",
       "      <td>0.946429</td>\n",
       "      <td>0.896763</td>\n",
       "      <td>0.901786</td>\n",
       "      <td>0.928013</td>\n",
       "      <td>4.591776e+08</td>\n",
       "      <td>0.799357</td>\n",
       "    </tr>\n",
       "    <tr>\n",
       "      <th>2000-01-19</th>\n",
       "      <td>0.970982</td>\n",
       "      <td>0.922991</td>\n",
       "      <td>0.943080</td>\n",
       "      <td>0.951451</td>\n",
       "      <td>5.976432e+08</td>\n",
       "      <td>0.819545</td>\n",
       "    </tr>\n",
       "    <tr>\n",
       "      <th>2000-01-20</th>\n",
       "      <td>1.084821</td>\n",
       "      <td>1.013393</td>\n",
       "      <td>1.031250</td>\n",
       "      <td>1.013393</td>\n",
       "      <td>1.831133e+09</td>\n",
       "      <td>0.872900</td>\n",
       "    </tr>\n",
       "    <tr>\n",
       "      <th>2000-01-21</th>\n",
       "      <td>1.020089</td>\n",
       "      <td>0.983817</td>\n",
       "      <td>1.020089</td>\n",
       "      <td>0.993862</td>\n",
       "      <td>4.959248e+08</td>\n",
       "      <td>0.856077</td>\n",
       "    </tr>\n",
       "    <tr>\n",
       "      <th>2000-01-24</th>\n",
       "      <td>1.006696</td>\n",
       "      <td>0.938616</td>\n",
       "      <td>0.968192</td>\n",
       "      <td>0.948661</td>\n",
       "      <td>4.408768e+08</td>\n",
       "      <td>0.817142</td>\n",
       "    </tr>\n",
       "    <tr>\n",
       "      <th>2000-01-25</th>\n",
       "      <td>1.010045</td>\n",
       "      <td>0.914063</td>\n",
       "      <td>0.937500</td>\n",
       "      <td>1.002232</td>\n",
       "      <td>4.971456e+08</td>\n",
       "      <td>0.863286</td>\n",
       "    </tr>\n",
       "    <tr>\n",
       "      <th>2000-01-26</th>\n",
       "      <td>1.019531</td>\n",
       "      <td>0.979911</td>\n",
       "      <td>0.982143</td>\n",
       "      <td>0.983817</td>\n",
       "      <td>3.671584e+08</td>\n",
       "      <td>0.847424</td>\n",
       "    </tr>\n",
       "    <tr>\n",
       "      <th>2000-01-27</th>\n",
       "      <td>1.008929</td>\n",
       "      <td>0.955357</td>\n",
       "      <td>0.971540</td>\n",
       "      <td>0.982143</td>\n",
       "      <td>3.401440e+08</td>\n",
       "      <td>0.845982</td>\n",
       "    </tr>\n",
       "    <tr>\n",
       "      <th>2000-01-28</th>\n",
       "      <td>0.989955</td>\n",
       "      <td>0.898438</td>\n",
       "      <td>0.965960</td>\n",
       "      <td>0.907366</td>\n",
       "      <td>4.233488e+08</td>\n",
       "      <td>0.781572</td>\n",
       "    </tr>\n",
       "    <tr>\n",
       "      <th>2000-01-31</th>\n",
       "      <td>0.927455</td>\n",
       "      <td>0.843750</td>\n",
       "      <td>0.901786</td>\n",
       "      <td>0.926339</td>\n",
       "      <td>7.016800e+08</td>\n",
       "      <td>0.797914</td>\n",
       "    </tr>\n",
       "    <tr>\n",
       "      <th>2000-02-01</th>\n",
       "      <td>0.937500</td>\n",
       "      <td>0.892857</td>\n",
       "      <td>0.928571</td>\n",
       "      <td>0.895089</td>\n",
       "      <td>3.180352e+08</td>\n",
       "      <td>0.770997</td>\n",
       "    </tr>\n",
       "    <tr>\n",
       "      <th>2000-02-02</th>\n",
       "      <td>0.911830</td>\n",
       "      <td>0.866071</td>\n",
       "      <td>0.899554</td>\n",
       "      <td>0.882254</td>\n",
       "      <td>4.641952e+08</td>\n",
       "      <td>0.759941</td>\n",
       "    </tr>\n",
       "    <tr>\n",
       "      <th>2000-02-03</th>\n",
       "      <td>0.930804</td>\n",
       "      <td>0.895089</td>\n",
       "      <td>0.895647</td>\n",
       "      <td>0.922433</td>\n",
       "      <td>4.751936e+08</td>\n",
       "      <td>0.794550</td>\n",
       "    </tr>\n",
       "    <tr>\n",
       "      <th>2000-02-04</th>\n",
       "      <td>0.982143</td>\n",
       "      <td>0.925223</td>\n",
       "      <td>0.928013</td>\n",
       "      <td>0.964286</td>\n",
       "      <td>4.253200e+08</td>\n",
       "      <td>0.830601</td>\n",
       "    </tr>\n",
       "    <tr>\n",
       "      <th>2000-02-07</th>\n",
       "      <td>1.020089</td>\n",
       "      <td>0.945871</td>\n",
       "      <td>0.964286</td>\n",
       "      <td>1.018415</td>\n",
       "      <td>4.410672e+08</td>\n",
       "      <td>0.877225</td>\n",
       "    </tr>\n",
       "    <tr>\n",
       "      <th>2000-02-08</th>\n",
       "      <td>1.036830</td>\n",
       "      <td>0.993304</td>\n",
       "      <td>1.017857</td>\n",
       "      <td>1.025670</td>\n",
       "      <td>4.086432e+08</td>\n",
       "      <td>0.883475</td>\n",
       "    </tr>\n",
       "    <tr>\n",
       "      <th>2000-02-09</th>\n",
       "      <td>1.045759</td>\n",
       "      <td>1.003906</td>\n",
       "      <td>1.018973</td>\n",
       "      <td>1.005580</td>\n",
       "      <td>2.993648e+08</td>\n",
       "      <td>0.866170</td>\n",
       "    </tr>\n",
       "    <tr>\n",
       "      <th>2000-02-10</th>\n",
       "      <td>1.016741</td>\n",
       "      <td>0.982143</td>\n",
       "      <td>1.007813</td>\n",
       "      <td>1.013393</td>\n",
       "      <td>3.029824e+08</td>\n",
       "      <td>0.872900</td>\n",
       "    </tr>\n",
       "    <tr>\n",
       "      <th>2000-02-11</th>\n",
       "      <td>1.018973</td>\n",
       "      <td>0.966518</td>\n",
       "      <td>1.014509</td>\n",
       "      <td>0.970982</td>\n",
       "      <td>2.122512e+08</td>\n",
       "      <td>0.836368</td>\n",
       "    </tr>\n",
       "    <tr>\n",
       "      <th>2000-02-14</th>\n",
       "      <td>1.034598</td>\n",
       "      <td>0.969866</td>\n",
       "      <td>0.976004</td>\n",
       "      <td>1.034040</td>\n",
       "      <td>3.675392e+08</td>\n",
       "      <td>0.890684</td>\n",
       "    </tr>\n",
       "    <tr>\n",
       "      <th>...</th>\n",
       "      <td>...</td>\n",
       "      <td>...</td>\n",
       "      <td>...</td>\n",
       "      <td>...</td>\n",
       "      <td>...</td>\n",
       "      <td>...</td>\n",
       "    </tr>\n",
       "    <tr>\n",
       "      <th>2021-01-25</th>\n",
       "      <td>145.089996</td>\n",
       "      <td>136.539993</td>\n",
       "      <td>143.070007</td>\n",
       "      <td>142.919998</td>\n",
       "      <td>1.576117e+08</td>\n",
       "      <td>142.706757</td>\n",
       "    </tr>\n",
       "    <tr>\n",
       "      <th>2021-01-26</th>\n",
       "      <td>144.300003</td>\n",
       "      <td>141.369995</td>\n",
       "      <td>143.600006</td>\n",
       "      <td>143.160004</td>\n",
       "      <td>9.839060e+07</td>\n",
       "      <td>142.946396</td>\n",
       "    </tr>\n",
       "    <tr>\n",
       "      <th>2021-01-27</th>\n",
       "      <td>144.300003</td>\n",
       "      <td>140.410004</td>\n",
       "      <td>143.429993</td>\n",
       "      <td>142.059998</td>\n",
       "      <td>1.408438e+08</td>\n",
       "      <td>141.848038</td>\n",
       "    </tr>\n",
       "    <tr>\n",
       "      <th>2021-01-28</th>\n",
       "      <td>141.990005</td>\n",
       "      <td>136.699997</td>\n",
       "      <td>139.520004</td>\n",
       "      <td>137.089996</td>\n",
       "      <td>1.426211e+08</td>\n",
       "      <td>136.885452</td>\n",
       "    </tr>\n",
       "    <tr>\n",
       "      <th>2021-01-29</th>\n",
       "      <td>136.740005</td>\n",
       "      <td>130.210007</td>\n",
       "      <td>135.830002</td>\n",
       "      <td>131.960007</td>\n",
       "      <td>1.771806e+08</td>\n",
       "      <td>131.763107</td>\n",
       "    </tr>\n",
       "    <tr>\n",
       "      <th>2021-02-01</th>\n",
       "      <td>135.380005</td>\n",
       "      <td>130.929993</td>\n",
       "      <td>133.750000</td>\n",
       "      <td>134.139999</td>\n",
       "      <td>1.062398e+08</td>\n",
       "      <td>133.939850</td>\n",
       "    </tr>\n",
       "    <tr>\n",
       "      <th>2021-02-02</th>\n",
       "      <td>136.309998</td>\n",
       "      <td>134.610001</td>\n",
       "      <td>135.729996</td>\n",
       "      <td>134.990005</td>\n",
       "      <td>8.330540e+07</td>\n",
       "      <td>134.788589</td>\n",
       "    </tr>\n",
       "    <tr>\n",
       "      <th>2021-02-03</th>\n",
       "      <td>135.770004</td>\n",
       "      <td>133.610001</td>\n",
       "      <td>135.759995</td>\n",
       "      <td>133.940002</td>\n",
       "      <td>8.988090e+07</td>\n",
       "      <td>133.740158</td>\n",
       "    </tr>\n",
       "    <tr>\n",
       "      <th>2021-02-04</th>\n",
       "      <td>137.399994</td>\n",
       "      <td>134.589996</td>\n",
       "      <td>136.300003</td>\n",
       "      <td>137.389999</td>\n",
       "      <td>8.418310e+07</td>\n",
       "      <td>137.184998</td>\n",
       "    </tr>\n",
       "    <tr>\n",
       "      <th>2021-02-05</th>\n",
       "      <td>137.419998</td>\n",
       "      <td>135.860001</td>\n",
       "      <td>137.350006</td>\n",
       "      <td>136.759995</td>\n",
       "      <td>7.552400e+07</td>\n",
       "      <td>136.759995</td>\n",
       "    </tr>\n",
       "    <tr>\n",
       "      <th>2021-02-08</th>\n",
       "      <td>136.960007</td>\n",
       "      <td>134.919998</td>\n",
       "      <td>136.029999</td>\n",
       "      <td>136.910004</td>\n",
       "      <td>7.129720e+07</td>\n",
       "      <td>136.910004</td>\n",
       "    </tr>\n",
       "    <tr>\n",
       "      <th>2021-02-09</th>\n",
       "      <td>137.880005</td>\n",
       "      <td>135.850006</td>\n",
       "      <td>136.619995</td>\n",
       "      <td>136.009995</td>\n",
       "      <td>7.677420e+07</td>\n",
       "      <td>136.009995</td>\n",
       "    </tr>\n",
       "    <tr>\n",
       "      <th>2021-02-10</th>\n",
       "      <td>136.990005</td>\n",
       "      <td>134.399994</td>\n",
       "      <td>136.479996</td>\n",
       "      <td>135.389999</td>\n",
       "      <td>7.304660e+07</td>\n",
       "      <td>135.389999</td>\n",
       "    </tr>\n",
       "    <tr>\n",
       "      <th>2021-02-11</th>\n",
       "      <td>136.389999</td>\n",
       "      <td>133.770004</td>\n",
       "      <td>135.899994</td>\n",
       "      <td>135.130005</td>\n",
       "      <td>6.415440e+07</td>\n",
       "      <td>135.130005</td>\n",
       "    </tr>\n",
       "    <tr>\n",
       "      <th>2021-02-12</th>\n",
       "      <td>135.529999</td>\n",
       "      <td>133.690002</td>\n",
       "      <td>134.350006</td>\n",
       "      <td>135.369995</td>\n",
       "      <td>6.002930e+07</td>\n",
       "      <td>135.369995</td>\n",
       "    </tr>\n",
       "    <tr>\n",
       "      <th>2021-02-16</th>\n",
       "      <td>136.009995</td>\n",
       "      <td>132.789993</td>\n",
       "      <td>135.490005</td>\n",
       "      <td>133.190002</td>\n",
       "      <td>8.057630e+07</td>\n",
       "      <td>133.190002</td>\n",
       "    </tr>\n",
       "    <tr>\n",
       "      <th>2021-02-17</th>\n",
       "      <td>132.220001</td>\n",
       "      <td>129.470001</td>\n",
       "      <td>131.250000</td>\n",
       "      <td>130.839996</td>\n",
       "      <td>9.791850e+07</td>\n",
       "      <td>130.839996</td>\n",
       "    </tr>\n",
       "    <tr>\n",
       "      <th>2021-02-18</th>\n",
       "      <td>130.000000</td>\n",
       "      <td>127.410004</td>\n",
       "      <td>129.199997</td>\n",
       "      <td>129.710007</td>\n",
       "      <td>9.685670e+07</td>\n",
       "      <td>129.710007</td>\n",
       "    </tr>\n",
       "    <tr>\n",
       "      <th>2021-02-19</th>\n",
       "      <td>130.710007</td>\n",
       "      <td>128.800003</td>\n",
       "      <td>130.240005</td>\n",
       "      <td>129.869995</td>\n",
       "      <td>8.766880e+07</td>\n",
       "      <td>129.869995</td>\n",
       "    </tr>\n",
       "    <tr>\n",
       "      <th>2021-02-22</th>\n",
       "      <td>129.720001</td>\n",
       "      <td>125.599998</td>\n",
       "      <td>128.009995</td>\n",
       "      <td>126.000000</td>\n",
       "      <td>1.039164e+08</td>\n",
       "      <td>126.000000</td>\n",
       "    </tr>\n",
       "    <tr>\n",
       "      <th>2021-02-23</th>\n",
       "      <td>126.709999</td>\n",
       "      <td>118.389999</td>\n",
       "      <td>123.760002</td>\n",
       "      <td>125.860001</td>\n",
       "      <td>1.582730e+08</td>\n",
       "      <td>125.860001</td>\n",
       "    </tr>\n",
       "    <tr>\n",
       "      <th>2021-02-24</th>\n",
       "      <td>125.559998</td>\n",
       "      <td>122.230003</td>\n",
       "      <td>124.940002</td>\n",
       "      <td>125.349998</td>\n",
       "      <td>1.110399e+08</td>\n",
       "      <td>125.349998</td>\n",
       "    </tr>\n",
       "    <tr>\n",
       "      <th>2021-02-25</th>\n",
       "      <td>126.459999</td>\n",
       "      <td>120.540001</td>\n",
       "      <td>124.680000</td>\n",
       "      <td>120.989998</td>\n",
       "      <td>1.481995e+08</td>\n",
       "      <td>120.989998</td>\n",
       "    </tr>\n",
       "    <tr>\n",
       "      <th>2021-02-26</th>\n",
       "      <td>124.849998</td>\n",
       "      <td>121.199997</td>\n",
       "      <td>122.589996</td>\n",
       "      <td>121.260002</td>\n",
       "      <td>1.643200e+08</td>\n",
       "      <td>121.260002</td>\n",
       "    </tr>\n",
       "    <tr>\n",
       "      <th>2021-03-01</th>\n",
       "      <td>127.930000</td>\n",
       "      <td>122.790001</td>\n",
       "      <td>123.750000</td>\n",
       "      <td>127.790001</td>\n",
       "      <td>1.159983e+08</td>\n",
       "      <td>127.790001</td>\n",
       "    </tr>\n",
       "    <tr>\n",
       "      <th>2021-03-02</th>\n",
       "      <td>128.720001</td>\n",
       "      <td>125.010002</td>\n",
       "      <td>128.410004</td>\n",
       "      <td>125.120003</td>\n",
       "      <td>1.020153e+08</td>\n",
       "      <td>125.120003</td>\n",
       "    </tr>\n",
       "    <tr>\n",
       "      <th>2021-03-03</th>\n",
       "      <td>125.709999</td>\n",
       "      <td>121.839996</td>\n",
       "      <td>124.809998</td>\n",
       "      <td>122.059998</td>\n",
       "      <td>1.124304e+08</td>\n",
       "      <td>122.059998</td>\n",
       "    </tr>\n",
       "    <tr>\n",
       "      <th>2021-03-04</th>\n",
       "      <td>123.599998</td>\n",
       "      <td>118.620003</td>\n",
       "      <td>121.750000</td>\n",
       "      <td>120.129997</td>\n",
       "      <td>1.772753e+08</td>\n",
       "      <td>120.129997</td>\n",
       "    </tr>\n",
       "    <tr>\n",
       "      <th>2021-03-05</th>\n",
       "      <td>121.940002</td>\n",
       "      <td>117.570000</td>\n",
       "      <td>120.980003</td>\n",
       "      <td>121.419998</td>\n",
       "      <td>1.535904e+08</td>\n",
       "      <td>121.419998</td>\n",
       "    </tr>\n",
       "    <tr>\n",
       "      <th>2021-03-08</th>\n",
       "      <td>121.000000</td>\n",
       "      <td>116.209999</td>\n",
       "      <td>120.930000</td>\n",
       "      <td>116.360001</td>\n",
       "      <td>1.489133e+08</td>\n",
       "      <td>116.360001</td>\n",
       "    </tr>\n",
       "  </tbody>\n",
       "</table>\n",
       "<p>5328 rows × 6 columns</p>\n",
       "</div>"
      ],
      "text/plain": [
       "                  High         Low        Open       Close        Volume  \\\n",
       "Date                                                                       \n",
       "2000-01-03    1.004464    0.907924    0.936384    0.999442  5.357968e+08   \n",
       "2000-01-04    0.987723    0.903460    0.966518    0.915179  5.123776e+08   \n",
       "2000-01-05    0.987165    0.919643    0.926339    0.928571  7.783216e+08   \n",
       "2000-01-06    0.955357    0.848214    0.947545    0.848214  7.679728e+08   \n",
       "2000-01-07    0.901786    0.852679    0.861607    0.888393  4.607344e+08   \n",
       "2000-01-10    0.912946    0.845982    0.910714    0.872768  5.050640e+08   \n",
       "2000-01-11    0.887277    0.808036    0.856585    0.828125  4.415488e+08   \n",
       "2000-01-12    0.852679    0.772321    0.848214    0.778460  9.760688e+08   \n",
       "2000-01-13    0.881696    0.825893    0.843610    0.863839  1.032685e+09   \n",
       "2000-01-14    0.912946    0.887277    0.892857    0.896763  3.903760e+08   \n",
       "2000-01-18    0.946429    0.896763    0.901786    0.928013  4.591776e+08   \n",
       "2000-01-19    0.970982    0.922991    0.943080    0.951451  5.976432e+08   \n",
       "2000-01-20    1.084821    1.013393    1.031250    1.013393  1.831133e+09   \n",
       "2000-01-21    1.020089    0.983817    1.020089    0.993862  4.959248e+08   \n",
       "2000-01-24    1.006696    0.938616    0.968192    0.948661  4.408768e+08   \n",
       "2000-01-25    1.010045    0.914063    0.937500    1.002232  4.971456e+08   \n",
       "2000-01-26    1.019531    0.979911    0.982143    0.983817  3.671584e+08   \n",
       "2000-01-27    1.008929    0.955357    0.971540    0.982143  3.401440e+08   \n",
       "2000-01-28    0.989955    0.898438    0.965960    0.907366  4.233488e+08   \n",
       "2000-01-31    0.927455    0.843750    0.901786    0.926339  7.016800e+08   \n",
       "2000-02-01    0.937500    0.892857    0.928571    0.895089  3.180352e+08   \n",
       "2000-02-02    0.911830    0.866071    0.899554    0.882254  4.641952e+08   \n",
       "2000-02-03    0.930804    0.895089    0.895647    0.922433  4.751936e+08   \n",
       "2000-02-04    0.982143    0.925223    0.928013    0.964286  4.253200e+08   \n",
       "2000-02-07    1.020089    0.945871    0.964286    1.018415  4.410672e+08   \n",
       "2000-02-08    1.036830    0.993304    1.017857    1.025670  4.086432e+08   \n",
       "2000-02-09    1.045759    1.003906    1.018973    1.005580  2.993648e+08   \n",
       "2000-02-10    1.016741    0.982143    1.007813    1.013393  3.029824e+08   \n",
       "2000-02-11    1.018973    0.966518    1.014509    0.970982  2.122512e+08   \n",
       "2000-02-14    1.034598    0.969866    0.976004    1.034040  3.675392e+08   \n",
       "...                ...         ...         ...         ...           ...   \n",
       "2021-01-25  145.089996  136.539993  143.070007  142.919998  1.576117e+08   \n",
       "2021-01-26  144.300003  141.369995  143.600006  143.160004  9.839060e+07   \n",
       "2021-01-27  144.300003  140.410004  143.429993  142.059998  1.408438e+08   \n",
       "2021-01-28  141.990005  136.699997  139.520004  137.089996  1.426211e+08   \n",
       "2021-01-29  136.740005  130.210007  135.830002  131.960007  1.771806e+08   \n",
       "2021-02-01  135.380005  130.929993  133.750000  134.139999  1.062398e+08   \n",
       "2021-02-02  136.309998  134.610001  135.729996  134.990005  8.330540e+07   \n",
       "2021-02-03  135.770004  133.610001  135.759995  133.940002  8.988090e+07   \n",
       "2021-02-04  137.399994  134.589996  136.300003  137.389999  8.418310e+07   \n",
       "2021-02-05  137.419998  135.860001  137.350006  136.759995  7.552400e+07   \n",
       "2021-02-08  136.960007  134.919998  136.029999  136.910004  7.129720e+07   \n",
       "2021-02-09  137.880005  135.850006  136.619995  136.009995  7.677420e+07   \n",
       "2021-02-10  136.990005  134.399994  136.479996  135.389999  7.304660e+07   \n",
       "2021-02-11  136.389999  133.770004  135.899994  135.130005  6.415440e+07   \n",
       "2021-02-12  135.529999  133.690002  134.350006  135.369995  6.002930e+07   \n",
       "2021-02-16  136.009995  132.789993  135.490005  133.190002  8.057630e+07   \n",
       "2021-02-17  132.220001  129.470001  131.250000  130.839996  9.791850e+07   \n",
       "2021-02-18  130.000000  127.410004  129.199997  129.710007  9.685670e+07   \n",
       "2021-02-19  130.710007  128.800003  130.240005  129.869995  8.766880e+07   \n",
       "2021-02-22  129.720001  125.599998  128.009995  126.000000  1.039164e+08   \n",
       "2021-02-23  126.709999  118.389999  123.760002  125.860001  1.582730e+08   \n",
       "2021-02-24  125.559998  122.230003  124.940002  125.349998  1.110399e+08   \n",
       "2021-02-25  126.459999  120.540001  124.680000  120.989998  1.481995e+08   \n",
       "2021-02-26  124.849998  121.199997  122.589996  121.260002  1.643200e+08   \n",
       "2021-03-01  127.930000  122.790001  123.750000  127.790001  1.159983e+08   \n",
       "2021-03-02  128.720001  125.010002  128.410004  125.120003  1.020153e+08   \n",
       "2021-03-03  125.709999  121.839996  124.809998  122.059998  1.124304e+08   \n",
       "2021-03-04  123.599998  118.620003  121.750000  120.129997  1.772753e+08   \n",
       "2021-03-05  121.940002  117.570000  120.980003  121.419998  1.535904e+08   \n",
       "2021-03-08  121.000000  116.209999  120.930000  116.360001  1.489133e+08   \n",
       "\n",
       "             Adj Close  \n",
       "Date                    \n",
       "2000-01-03    0.860883  \n",
       "2000-01-04    0.788302  \n",
       "2000-01-05    0.799837  \n",
       "2000-01-06    0.730621  \n",
       "2000-01-07    0.765229  \n",
       "2000-01-10    0.751771  \n",
       "2000-01-11    0.713317  \n",
       "2000-01-12    0.670537  \n",
       "2000-01-13    0.744079  \n",
       "2000-01-14    0.772439  \n",
       "2000-01-18    0.799357  \n",
       "2000-01-19    0.819545  \n",
       "2000-01-20    0.872900  \n",
       "2000-01-21    0.856077  \n",
       "2000-01-24    0.817142  \n",
       "2000-01-25    0.863286  \n",
       "2000-01-26    0.847424  \n",
       "2000-01-27    0.845982  \n",
       "2000-01-28    0.781572  \n",
       "2000-01-31    0.797914  \n",
       "2000-02-01    0.770997  \n",
       "2000-02-02    0.759941  \n",
       "2000-02-03    0.794550  \n",
       "2000-02-04    0.830601  \n",
       "2000-02-07    0.877225  \n",
       "2000-02-08    0.883475  \n",
       "2000-02-09    0.866170  \n",
       "2000-02-10    0.872900  \n",
       "2000-02-11    0.836368  \n",
       "2000-02-14    0.890684  \n",
       "...                ...  \n",
       "2021-01-25  142.706757  \n",
       "2021-01-26  142.946396  \n",
       "2021-01-27  141.848038  \n",
       "2021-01-28  136.885452  \n",
       "2021-01-29  131.763107  \n",
       "2021-02-01  133.939850  \n",
       "2021-02-02  134.788589  \n",
       "2021-02-03  133.740158  \n",
       "2021-02-04  137.184998  \n",
       "2021-02-05  136.759995  \n",
       "2021-02-08  136.910004  \n",
       "2021-02-09  136.009995  \n",
       "2021-02-10  135.389999  \n",
       "2021-02-11  135.130005  \n",
       "2021-02-12  135.369995  \n",
       "2021-02-16  133.190002  \n",
       "2021-02-17  130.839996  \n",
       "2021-02-18  129.710007  \n",
       "2021-02-19  129.869995  \n",
       "2021-02-22  126.000000  \n",
       "2021-02-23  125.860001  \n",
       "2021-02-24  125.349998  \n",
       "2021-02-25  120.989998  \n",
       "2021-02-26  121.260002  \n",
       "2021-03-01  127.790001  \n",
       "2021-03-02  125.120003  \n",
       "2021-03-03  122.059998  \n",
       "2021-03-04  120.129997  \n",
       "2021-03-05  121.419998  \n",
       "2021-03-08  116.360001  \n",
       "\n",
       "[5328 rows x 6 columns]"
      ]
     },
     "execution_count": 2,
     "metadata": {},
     "output_type": "execute_result"
    }
   ],
   "source": [
    "# get the stock quote\n",
    "AAPL_df = web.DataReader('AAPL', data_source='yahoo', start='2000-01-01', end ='2021-12-31')\n",
    "AAPL_df"
   ]
  },
  {
   "cell_type": "code",
   "execution_count": 3,
   "metadata": {
    "colab": {
     "base_uri": "https://localhost:8080/"
    },
    "id": "MThGSz0gclvs",
    "outputId": "4d7eef87-be58-4523-f93d-9178bb597f49"
   },
   "outputs": [
    {
     "data": {
      "text/plain": [
       "(5328, 6)"
      ]
     },
     "execution_count": 3,
     "metadata": {},
     "output_type": "execute_result"
    }
   ],
   "source": [
    "# get the total rows and columns in the AAPL Dataset\n",
    "AAPL_df.shape"
   ]
  },
  {
   "cell_type": "code",
   "execution_count": 4,
   "metadata": {
    "colab": {
     "base_uri": "https://localhost:8080/"
    },
    "id": "6NmZ0rO8blsm",
    "outputId": "66f0f010-fe81-445a-fe76-f13a31436e77"
   },
   "outputs": [
    {
     "data": {
      "text/plain": [
       "array([[  0.99944198],\n",
       "       [  0.91517901],\n",
       "       [  0.92857099],\n",
       "       ...,\n",
       "       [120.12999725],\n",
       "       [121.41999817],\n",
       "       [116.36000061]])"
      ]
     },
     "execution_count": 4,
     "metadata": {},
     "output_type": "execute_result"
    }
   ],
   "source": [
    "# create a closing price dataset\n",
    "Closing_Price_AAPL_df = AAPL_df.filter(['Close'])\n",
    "\n",
    "# convert the the closing price dataset to a array\n",
    "Closing_Price_array_AAPL_df = Closing_Price_AAPL_df.values\n",
    "\n",
    "Closing_Price_array_AAPL_df"
   ]
  },
  {
   "cell_type": "code",
   "execution_count": 5,
   "metadata": {
    "colab": {
     "base_uri": "https://localhost:8080/"
    },
    "id": "491_6cAse8Kt",
    "outputId": "fd0ea7ed-480f-407d-cefd-218186355c83"
   },
   "outputs": [
    {
     "data": {
      "text/plain": [
       "4796"
      ]
     },
     "execution_count": 5,
     "metadata": {},
     "output_type": "execute_result"
    }
   ],
   "source": [
    "# get the number of rows to train the model on (90 %)\n",
    "train_closing_price_AAPL_len = math.ceil(len(Closing_Price_array_AAPL_df) * 0.9) # rounded up\n",
    "\n",
    "train_closing_price_AAPL_len"
   ]
  },
  {
   "cell_type": "code",
   "execution_count": 6,
   "metadata": {
    "colab": {
     "base_uri": "https://localhost:8080/"
    },
    "id": "3AYQTVJbgRyy",
    "outputId": "67807d33-de3b-4e49-c289-3e28dc833168"
   },
   "outputs": [
    {
     "data": {
      "text/plain": [
       "array([[0.00535352],\n",
       "       [0.00476396],\n",
       "       [0.00485766],\n",
       "       ...,\n",
       "       [0.8388673 ],\n",
       "       [0.84789298],\n",
       "       [0.81248999]])"
      ]
     },
     "execution_count": 6,
     "metadata": {},
     "output_type": "execute_result"
    }
   ],
   "source": [
    "# Scale de closing price dataset between 0 and 1\n",
    "scale_AAPL = MinMaxScaler(feature_range=(0,1))\n",
    "scaled_closing_price_AAPL_df = scale_AAPL.fit_transform(Closing_Price_array_AAPL_df)\n",
    "scaled_closing_price_AAPL_df"
   ]
  },
  {
   "cell_type": "code",
   "execution_count": 7,
   "metadata": {
    "id": "vM4u6NXIiRT_"
   },
   "outputs": [],
   "source": [
    "# Training Data\n",
    "train_closing_price_AAPL = scaled_closing_price_AAPL_df[0:train_closing_price_AAPL_len, :]\n",
    "# Split Data\n",
    "x_train =[]\n",
    "y_train=[]\n",
    "\n",
    "for i in range(80, len(train_closing_price_AAPL)):\n",
    "  x_train.append(train_closing_price_AAPL[i-80:i,0])\n",
    "  y_train.append(train_closing_price_AAPL[i,0])\n"
   ]
  },
  {
   "cell_type": "code",
   "execution_count": 8,
   "metadata": {
    "id": "59u2na0ZJ6Vg"
   },
   "outputs": [],
   "source": [
    "# convert to numpy arrays\n",
    "x_train = np.array(x_train)\n",
    "y_train = np.array(y_train)\n"
   ]
  },
  {
   "cell_type": "code",
   "execution_count": 9,
   "metadata": {
    "id": "ymk9yUhaL6V4"
   },
   "outputs": [],
   "source": [
    "# Reshape the dataset\n",
    "x_train = np.reshape(x_train, (x_train.shape[0],x_train.shape[1],1))"
   ]
  },
  {
   "cell_type": "code",
   "execution_count": 10,
   "metadata": {
    "colab": {
     "base_uri": "https://localhost:8080/"
    },
    "id": "oTu98pgvKzrQ",
    "outputId": "ac69abca-2f45-4f3f-ad81-e3badf0daca1"
   },
   "outputs": [
    {
     "data": {
      "text/plain": [
       "(4716, 80, 1)"
      ]
     },
     "execution_count": 10,
     "metadata": {},
     "output_type": "execute_result"
    }
   ],
   "source": [
    "x_train.shape"
   ]
  },
  {
   "cell_type": "code",
   "execution_count": 11,
   "metadata": {
    "id": "voJohWBaiOYr"
   },
   "outputs": [
    {
     "name": "stdout",
     "output_type": "stream",
     "text": [
      "WARNING:tensorflow:From /Users/elizabethstenhaug/opt/anaconda3/envs/PythonAdv/lib/python3.6/site-packages/tensorflow/python/framework/op_def_library.py:263: colocate_with (from tensorflow.python.framework.ops) is deprecated and will be removed in a future version.\n",
      "Instructions for updating:\n",
      "Colocations handled automatically by placer.\n"
     ]
    }
   ],
   "source": [
    "# Building the LSTM model\n",
    "#x_train = tf.convert_to_tensor(x_train)\n",
    "#y_train = tf.convert_to_tensor(y_train)\n",
    "\n",
    "AAPL_model = Sequential()\n",
    "AAPL_model.add(LSTM(50, return_sequences=True, input_shape= (x_train.shape[1],1)))\n",
    "AAPL_model.add(LSTM(50, return_sequences=False))\n",
    "AAPL_model.add(Dense(25))\n",
    "AAPL_model.add(Dense(1))"
   ]
  },
  {
   "cell_type": "code",
   "execution_count": 12,
   "metadata": {
    "id": "8IntKy1TU_1F"
   },
   "outputs": [],
   "source": [
    "# Compile  the LSTM model\n",
    "AAPL_model.compile(optimizer='adam', loss='mean_squared_error')\n",
    "#'categorical_crossentropy'"
   ]
  },
  {
   "cell_type": "code",
   "execution_count": 13,
   "metadata": {
    "colab": {
     "base_uri": "https://localhost:8080/"
    },
    "id": "sKBZM4h_ZS-Z",
    "outputId": "6806aaf3-b444-4164-df4a-171453d55d80"
   },
   "outputs": [
    {
     "name": "stdout",
     "output_type": "stream",
     "text": [
      "WARNING:tensorflow:From /Users/elizabethstenhaug/opt/anaconda3/envs/PythonAdv/lib/python3.6/site-packages/tensorflow/python/ops/math_ops.py:3066: to_int32 (from tensorflow.python.ops.math_ops) is deprecated and will be removed in a future version.\n",
      "Instructions for updating:\n",
      "Use tf.cast instead.\n",
      "Epoch 1/1\n",
      "4716/4716 [==============================] - 1187s 252ms/step - loss: 1.1796e-04\n"
     ]
    },
    {
     "data": {
      "text/plain": [
       "<keras.callbacks.History at 0x7fd4c82c9a58>"
      ]
     },
     "execution_count": 13,
     "metadata": {},
     "output_type": "execute_result"
    }
   ],
   "source": [
    "# training the AAPL_model\n",
    "AAPL_model.fit(x_train,y_train,epochs=1,batch_size=1)"
   ]
  },
  {
   "cell_type": "code",
   "execution_count": 14,
   "metadata": {
    "id": "zRI6eEVtdBSE"
   },
   "outputs": [],
   "source": [
    "# Setting the testing Dataset\n",
    "# scaled testing dataset set from index 1743 to 2003\n",
    "AAPL_test_dataset= scaled_closing_price_AAPL_df[train_closing_price_AAPL_len - 80: , :]\n",
    "\n",
    "#setting the x and y test data\n",
    "x_test = []\n",
    "y_test = Closing_Price_array_AAPL_df[train_closing_price_AAPL_len, :]\n",
    "for i in range(80,len(AAPL_test_dataset)):\n",
    "    x_test.append(AAPL_test_dataset[i-80:i, 0])\n"
   ]
  },
  {
   "cell_type": "code",
   "execution_count": 15,
   "metadata": {
    "colab": {
     "base_uri": "https://localhost:8080/"
    },
    "id": "E5s3J3f3egyx",
    "outputId": "68e4ffcd-9dfe-4ce0-fccf-a0e7dcfb3188"
   },
   "outputs": [
    {
     "name": "stdout",
     "output_type": "stream",
     "text": [
      "[[0.39587496 0.39940827 0.40428844 ... 0.26759154 0.26545757 0.27430831]\n",
      " [0.39940827 0.40428844 0.39715187 ... 0.26545757 0.27430831 0.27175455]\n",
      " [0.40428844 0.39715187 0.39067995 ... 0.27430831 0.27175455 0.2689209 ]\n",
      " ...\n",
      " [0.83117101 0.82879218 0.81221012 ... 0.8924616  0.87378058 0.85237082]\n",
      " [0.82879218 0.81221012 0.8097613  ... 0.87378058 0.85237082 0.8388673 ]\n",
      " [0.81221012 0.8097613  0.83438946 ... 0.85237082 0.8388673  0.84789298]]\n"
     ]
    }
   ],
   "source": [
    "# Convert the test dataset to array\n",
    "x_test = np.array(x_test)\n",
    "print (x_test)"
   ]
  },
  {
   "cell_type": "code",
   "execution_count": 16,
   "metadata": {
    "id": "3P7Smg6far6X"
   },
   "outputs": [],
   "source": [
    "#reshape the test dataset\n",
    "\n",
    "x_test = np.reshape(x_test, (x_test.shape[0],x_test.shape[1],1))"
   ]
  },
  {
   "cell_type": "code",
   "execution_count": 17,
   "metadata": {
    "colab": {
     "base_uri": "https://localhost:8080/"
    },
    "id": "uQLWL1VamH4a",
    "outputId": "5e77c4af-fea6-41a9-89f6-56ce8f01396f"
   },
   "outputs": [
    {
     "data": {
      "text/plain": [
       "(532, 80, 1)"
      ]
     },
     "execution_count": 17,
     "metadata": {},
     "output_type": "execute_result"
    }
   ],
   "source": [
    "x_test.shape"
   ]
  },
  {
   "cell_type": "code",
   "execution_count": 18,
   "metadata": {
    "id": "W-gWpmJSmR3H"
   },
   "outputs": [],
   "source": [
    "# getting the model predicted closing price value\n",
    "\n",
    "predictions = AAPL_model.predict(x_test)\n",
    "predictions = scale_AAPL.inverse_transform(predictions)"
   ]
  },
  {
   "cell_type": "code",
   "execution_count": 19,
   "metadata": {
    "colab": {
     "base_uri": "https://localhost:8080/"
    },
    "id": "VPySoSOGmqX3",
    "outputId": "5af6bb0a-621d-48f4-c1d5-ea1f5c127769"
   },
   "outputs": [
    {
     "data": {
      "text/plain": [
       "41.40623390943484"
      ]
     },
     "execution_count": 19,
     "metadata": {},
     "output_type": "execute_result"
    }
   ],
   "source": [
    "# getting the root mean squared error \n",
    "\n",
    "rmse = np.sqrt(np.mean(predictions - y_test) **2)\n",
    "rmse"
   ]
  },
  {
   "cell_type": "markdown",
   "metadata": {
    "id": "K_JZcsEzwF_L"
   },
   "source": []
  },
  {
   "cell_type": "code",
   "execution_count": 20,
   "metadata": {
    "colab": {
     "base_uri": "https://localhost:8080/",
     "height": 677
    },
    "id": "0leszgAPqgKu",
    "outputId": "2c0fda71-bc6d-435a-fb33-aac7fa523633"
   },
   "outputs": [
    {
     "name": "stderr",
     "output_type": "stream",
     "text": [
      "/Users/elizabethstenhaug/opt/anaconda3/envs/PythonAdv/lib/python3.6/site-packages/ipykernel_launcher.py:5: SettingWithCopyWarning: \n",
      "A value is trying to be set on a copy of a slice from a DataFrame.\n",
      "Try using .loc[row_indexer,col_indexer] = value instead\n",
      "\n",
      "See the caveats in the documentation: http://pandas.pydata.org/pandas-docs/stable/indexing.html#indexing-view-versus-copy\n",
      "  \"\"\"\n",
      "/Users/elizabethstenhaug/opt/anaconda3/envs/PythonAdv/lib/python3.6/site-packages/pandas/plotting/_converter.py:129: FutureWarning: Using an implicitly registered datetime converter for a matplotlib plotting method. The converter was registered by pandas on import. Future versions of pandas will require you to explicitly register matplotlib converters.\n",
      "\n",
      "To register the converters:\n",
      "\t>>> from pandas.plotting import register_matplotlib_converters\n",
      "\t>>> register_matplotlib_converters()\n",
      "  warnings.warn(msg, FutureWarning)\n"
     ]
    },
    {
     "data": {
      "text/plain": [
       "<matplotlib.legend.Legend at 0x7fd4cd10eef0>"
      ]
     },
     "execution_count": 20,
     "metadata": {},
     "output_type": "execute_result"
    },
    {
     "data": {
      "image/png": "[encoded data removed]",
      "text/plain": [
       "<Figure size 1152x576 with 1 Axes>"
      ]
     },
     "metadata": {},
     "output_type": "display_data"
    }
   ],
   "source": [
    "# Plot the Dataset\n",
    "train_data = Closing_Price_AAPL_df[:train_closing_price_AAPL_len]\n",
    "validation_data = Closing_Price_AAPL_df[train_closing_price_AAPL_len:]\n",
    "\n",
    "validation_data['Predictions'] = predictions\n",
    "plt.figure(figsize=(16,8))\n",
    "plt.title('AAPL Model', color='crimson')\n",
    "plt.xlabel('date', fontsize=18, color='crimson')\n",
    "plt.ylabel('closing price USD', color='crimson')\n",
    "plt.plot(train_data['Close'], color='darkcyan')\n",
    "plt.plot(validation_data['Close'], color='limegreen')\n",
    "plt.plot(validation_data['Predictions'], color = 'lightcoral')\n",
    "plt.legend(['Train', 'Validation', 'Predictions'])\n"
   ]
  },
  {
   "cell_type": "code",
   "execution_count": null,
   "metadata": {},
   "outputs": [],
   "source": []
  }
 ],
 "metadata": {
  "colab": {
   "collapsed_sections": [],
   "name": "Untitled0.ipynb",
   "provenance": []
  },
  "kernelspec": {
   "display_name": "Python 3",
   "language": "python",
   "name": "python3"
  },
  "language_info": {
   "codemirror_mode": {
    "name": "ipython",
    "version": 3
   },
   "file_extension": ".py",
   "mimetype": "text/x-python",
   "name": "python",
   "nbconvert_exporter": "python",
   "pygments_lexer": "ipython3",
   "version": "3.6.12"
  }
 },
 "nbformat": 4,
 "nbformat_minor": 1
}
